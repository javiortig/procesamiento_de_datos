{
 "cells": [
  {
   "cell_type": "markdown",
   "metadata": {},
   "source": [
    "# Introducción a Spark Dataframe\n",
    "## Exploratory Data Analysis con PySpark y Spark DF"
   ]
  },
  {
   "cell_type": "code",
   "execution_count": 1,
   "metadata": {},
   "outputs": [
    {
     "name": "stderr",
     "output_type": "stream",
     "text": [
      "22/03/25 11:27:43 WARN Utils: Your hostname, mgadi-ThinkPad-T470s-W10DG resolves to a loopback address: 127.0.1.1; using 192.168.1.113 instead (on interface wlp58s0)\n",
      "22/03/25 11:27:43 WARN Utils: Set SPARK_LOCAL_IP if you need to bind to another address\n",
      "WARNING: An illegal reflective access operation has occurred\n",
      "WARNING: Illegal reflective access by org.apache.spark.unsafe.Platform (file:/home/mgadi/anaconda3/lib/python3.8/site-packages/pyspark/jars/spark-unsafe_2.12-3.2.1.jar) to constructor java.nio.DirectByteBuffer(long,int)\n",
      "WARNING: Please consider reporting this to the maintainers of org.apache.spark.unsafe.Platform\n",
      "WARNING: Use --illegal-access=warn to enable warnings of further illegal reflective access operations\n",
      "WARNING: All illegal access operations will be denied in a future release\n",
      "Using Spark's default log4j profile: org/apache/spark/log4j-defaults.properties\n",
      "Setting default log level to \"WARN\".\n",
      "To adjust logging level use sc.setLogLevel(newLevel). For SparkR, use setLogLevel(newLevel).\n",
      "22/03/25 11:27:45 WARN NativeCodeLoader: Unable to load native-hadoop library for your platform... using builtin-java classes where applicable\n",
      "22/03/25 11:27:47 WARN Utils: Service 'SparkUI' could not bind on port 4040. Attempting port 4041.\n"
     ]
    }
   ],
   "source": [
    "import findspark\n",
    "findspark.init()\n",
    "import pyspark\n",
    "sc = pyspark.SparkContext(appName=\"SparkDFBasics\")\n",
    "from pyspark.sql.session import SparkSession\n",
    "spark = SparkSession(sc)"
   ]
  },
  {
   "cell_type": "code",
   "execution_count": 2,
   "metadata": {},
   "outputs": [
    {
     "name": "stderr",
     "output_type": "stream",
     "text": [
      "                                                                                \r"
     ]
    }
   ],
   "source": [
    "df = spark.read \\\n",
    "    .option(\"header\", \"true\") \\\n",
    "    .option(\"inferSchema\", \"true\") \\\n",
    "    .csv(\"anorexia.csv\")  "
   ]
  },
  {
   "cell_type": "code",
   "execution_count": 3,
   "metadata": {},
   "outputs": [
    {
     "data": {
      "text/plain": [
       "pyspark.sql.dataframe.DataFrame"
      ]
     },
     "execution_count": 3,
     "metadata": {},
     "output_type": "execute_result"
    }
   ],
   "source": [
    "type(df)"
   ]
  },
  {
   "cell_type": "code",
   "execution_count": 4,
   "metadata": {},
   "outputs": [
    {
     "data": {
      "text/plain": [
       "72"
      ]
     },
     "execution_count": 4,
     "metadata": {},
     "output_type": "execute_result"
    }
   ],
   "source": [
    "df.count()"
   ]
  },
  {
   "cell_type": "code",
   "execution_count": 5,
   "metadata": {},
   "outputs": [
    {
     "data": {
      "text/plain": [
       "['ID', 'group', 'prewt', 'postwt', 'difwt']"
      ]
     },
     "execution_count": 5,
     "metadata": {},
     "output_type": "execute_result"
    }
   ],
   "source": [
    "# columns of dataframe\n",
    "df.columns"
   ]
  },
  {
   "cell_type": "code",
   "execution_count": 6,
   "metadata": {},
   "outputs": [
    {
     "name": "stdout",
     "output_type": "stream",
     "text": [
      "root\n",
      " |-- ID: integer (nullable = true)\n",
      " |-- group: integer (nullable = true)\n",
      " |-- prewt: double (nullable = true)\n",
      " |-- postwt: double (nullable = true)\n",
      " |-- difwt: double (nullable = true)\n",
      "\n"
     ]
    }
   ],
   "source": [
    "#printSchema\n",
    "df.printSchema()"
   ]
  },
  {
   "cell_type": "code",
   "execution_count": 7,
   "metadata": {},
   "outputs": [
    {
     "data": {
      "text/plain": [
       "72"
      ]
     },
     "execution_count": 7,
     "metadata": {},
     "output_type": "execute_result"
    }
   ],
   "source": [
    "#number of records in dataframe\n",
    "df.count()"
   ]
  },
  {
   "cell_type": "code",
   "execution_count": 8,
   "metadata": {},
   "outputs": [
    {
     "name": "stdout",
     "output_type": "stream",
     "text": [
      "(72, 5)\n"
     ]
    }
   ],
   "source": [
    "#shape of dataset - df.shape\n",
    "print((df.count(),len(df.columns)))"
   ]
  },
  {
   "cell_type": "code",
   "execution_count": 9,
   "metadata": {},
   "outputs": [
    {
     "name": "stdout",
     "output_type": "stream",
     "text": [
      "+---+-----+-----+------+-----+\n",
      "| ID|group|prewt|postwt|difwt|\n",
      "+---+-----+-----+------+-----+\n",
      "|101|    1| 80.5|  82.2|  1.7|\n",
      "|201|    2| 80.7|  80.2| -0.5|\n",
      "|301|    3| 83.8|  95.2| 11.4|\n",
      "|102|    1| 84.9|  85.6|  0.7|\n",
      "|202|    2| 89.4|  80.1| -9.3|\n",
      "+---+-----+-----+------+-----+\n",
      "only showing top 5 rows\n",
      "\n"
     ]
    }
   ],
   "source": [
    "#fisrt few rows of dataframe - df.head(5)\n",
    "df.show(5)"
   ]
  },
  {
   "cell_type": "markdown",
   "metadata": {},
   "source": [
    "# Estadísticas descriptivas\n",
    "\n",
    "La estadística descriptiva es el proceso de describir la muestra.\n",
    "Para ello, se utilizan medidas de centralidad, medidas de dispersión, forma de distribución y valores atípicos.\n",
    "Las visualizaciones también se pueden utilizar para explorar y dar sentido a los datos.\n",
    "\n",
    "\n",
    "# Estadísticas descriptivas\n",
    "\n",
    "La estadística descriptiva es el proceso de describir la muestra.\n",
    "Para ello, se utilizan medidas de centralidad, medidas de dispersión, forma de distribución y valores atípicos.\n",
    "Las visualizaciones también se pueden utilizar para explorar y dar sentido a los datos.\n",
    "\n",
    "\n",
    "## PARTE 1 - Medidas de tendencia central\n",
    "\n",
    "### Media (media aritmética o media aritmética)\n",
    "\n",
    "La media (o promedio) es la medida más popular y conocida de tendencia central. Se puede utilizar tanto con datos discretos como continuos, aunque su uso es más frecuente con datos continuos. El promedio es igual a la suma de todos los valores del conjunto de datos dividido por el número de valores del conjunto de datos. Por lo tanto, si tenemos n valores en un conjunto de datos y tienen valores x1, x2, ..., xn, la media de la muestra, generalmente denotada por (se pronuncia x barra):\n",
    "\n",
    "\\begin{equation*}\n",
    "\\overline{x} =\n",
    "\\frac{( x_1 + x_2 + ... + x_n )} {N}\n",
    "\\end{equation*}\n",
    "\n",
    "Esta fórmula generalmente se escribe de una manera ligeramente diferente usando la letra mayúscula griega, que se pronuncia \"sigma\", que significa \"suma de ...\":\n",
    "\n",
    "\\begin{equation*}\n",
    "\\overline{x} = \\frac{\\left( \\sum_{k=1}^n x_k \\right)} {N}\n",
    "\\end{equation*}\n",
    "\n",
    "Es posible que haya notado que la fórmula anterior se refiere a la media de la muestra. Entonces, ¿por qué lo hemos llamado media muestral? Esto se debe a que, en estadística, las muestras y las poblaciones tienen significados muy diferentes y estas diferencias son muy importantes, incluso si, en el caso de la media, se calculan de la misma manera. Para reconocer que estamos calculando la media de la población y no la media de la muestra, usamos la letra griega minúscula \"mu\", indicada como µ:\n",
    "\n",
    "\\begin{equation*}\n",
    "\\mu = \\frac{\\left( \\sum_{k=1}^n x_k \\right)} {N}\n",
    "\\end{equation*}\n",
    "\n",
    "### Min\n",
    "\n",
    "El mínimo representa el valor más pequeño de un conjunto de datos. Luego calculamos el rango como:\n",
    "\n",
    "\\begin{equation*}\n",
    "Min = [Minimum value]\n",
    "\\end{equation*}\n",
    "\n",
    "### Max\n",
    "\n",
    "El máximo representa el valor más grande en un conjunto de datos. Luego calculamos el rango como:\n",
    "\n",
    "\\begin{equation*}\n",
    "Max = [Maximum Value]\n",
    "\\end{equation*}\n",
    "\n",
    "### Standard Deviation\n",
    "\n",
    "La desviación estándar mide la dispersión de los datos alrededor del valor promedio. Es útil para comparar conjuntos de datos que pueden tener la misma media pero un rango diferente.\n",
    "\n",
    "\\begin{equation*}\n",
    "Standard.Deviation = \\sqrt{\\frac{1}{N-1} \\sum_{i=1}^N (x_i - \\overline{x})^2}\n",
    "\\end{equation*}\n",
    "\n"
   ]
  },
  {
   "cell_type": "code",
   "execution_count": 10,
   "metadata": {},
   "outputs": [
    {
     "data": {
      "text/plain": [
       "pyspark.sql.dataframe.DataFrame"
      ]
     },
     "execution_count": 10,
     "metadata": {},
     "output_type": "execute_result"
    }
   ],
   "source": [
    "type(df)"
   ]
  },
  {
   "cell_type": "code",
   "execution_count": 12,
   "metadata": {},
   "outputs": [
    {
     "name": "stdout",
     "output_type": "stream",
     "text": [
      "+-----+\n",
      "|prewt|\n",
      "+-----+\n",
      "| 80.5|\n",
      "| 80.7|\n",
      "+-----+\n",
      "only showing top 2 rows\n",
      "\n"
     ]
    }
   ],
   "source": [
    "df.select('prewt').show(2)"
   ]
  },
  {
   "cell_type": "code",
   "execution_count": 15,
   "metadata": {},
   "outputs": [
    {
     "name": "stdout",
     "output_type": "stream",
     "text": [
      "+-------+-----------------+\n",
      "|summary|            prewt|\n",
      "+-------+-----------------+\n",
      "|  count|               72|\n",
      "|   mean|82.40833333333333|\n",
      "| stddev|5.182466376782281|\n",
      "|    min|             70.0|\n",
      "|    max|             94.9|\n",
      "+-------+-----------------+\n",
      "\n"
     ]
    }
   ],
   "source": [
    "# df['prewt'].describe()en pandas\n",
    "df.select('prewt').describe().show()"
   ]
  },
  {
   "cell_type": "code",
   "execution_count": 16,
   "metadata": {},
   "outputs": [
    {
     "name": "stdout",
     "output_type": "stream",
     "text": [
      "+-------+-----------------+\n",
      "|summary|            prewt|\n",
      "+-------+-----------------+\n",
      "|  count|               72|\n",
      "|   mean|82.40833333333333|\n",
      "| stddev|5.182466376782281|\n",
      "|    min|             70.0|\n",
      "|    max|             94.9|\n",
      "+-------+-----------------+\n",
      "\n"
     ]
    }
   ],
   "source": [
    "df.select('prewt').describe().show()"
   ]
  },
  {
   "cell_type": "code",
   "execution_count": 17,
   "metadata": {},
   "outputs": [
    {
     "name": "stdout",
     "output_type": "stream",
     "text": [
      "+-------+-----------------+\n",
      "|summary|           postwt|\n",
      "+-------+-----------------+\n",
      "|  count|               72|\n",
      "|   mean|85.17222222222222|\n",
      "| stddev|8.035173069684369|\n",
      "|    min|             71.3|\n",
      "|    max|            103.6|\n",
      "+-------+-----------------+\n",
      "\n"
     ]
    }
   ],
   "source": [
    "df.select('postwt').describe().show()"
   ]
  },
  {
   "cell_type": "code",
   "execution_count": 19,
   "metadata": {},
   "outputs": [
    {
     "name": "stdout",
     "output_type": "stream",
     "text": [
      "+-------+-----------------+-----------------+------------------+\n",
      "|summary|            prewt|           postwt|             difwt|\n",
      "+-------+-----------------+-----------------+------------------+\n",
      "|  count|               72|               72|                72|\n",
      "|   mean|82.40833333333333|85.17222222222222|2.7638888888888897|\n",
      "| stddev|5.182466376782281|8.035173069684369| 7.983597719753965|\n",
      "|    min|             70.0|             71.3|             -12.2|\n",
      "|    max|             94.9|            103.6|              21.5|\n",
      "+-------+-----------------+-----------------+------------------+\n",
      "\n"
     ]
    }
   ],
   "source": [
    "df.select('prewt', 'postwt', 'difwt').describe().show()"
   ]
  },
  {
   "cell_type": "code",
   "execution_count": 20,
   "metadata": {},
   "outputs": [
    {
     "name": "stdout",
     "output_type": "stream",
     "text": [
      "+-------+-----------------+-----------------+------------------+\n",
      "|summary|            prewt|           postwt|             difwt|\n",
      "+-------+-----------------+-----------------+------------------+\n",
      "|  count|               72|               72|                72|\n",
      "|   mean|82.40833333333333|85.17222222222222|2.7638888888888897|\n",
      "| stddev|5.182466376782281|8.035173069684369| 7.983597719753965|\n",
      "|    min|             70.0|             71.3|             -12.2|\n",
      "|    max|             94.9|            103.6|              21.5|\n",
      "+-------+-----------------+-----------------+------------------+\n",
      "\n"
     ]
    }
   ],
   "source": [
    "df.select(['prewt', 'postwt', 'difwt']).describe().show()"
   ]
  },
  {
   "cell_type": "code",
   "execution_count": 21,
   "metadata": {},
   "outputs": [
    {
     "name": "stdout",
     "output_type": "stream",
     "text": [
      "+-------+------------------+------------------+-----------------+-----------------+------------------+\n",
      "|summary|                ID|             group|            prewt|           postwt|             difwt|\n",
      "+-------+------------------+------------------+-----------------+-----------------+------------------+\n",
      "|  count|                72|                72|               72|               72|                72|\n",
      "|   mean|197.73611111111111|1.8333333333333333|82.40833333333333|85.17222222222222|2.7638888888888897|\n",
      "| stddev|  76.4954188180998|0.7872218936609645|5.182466376782281|8.035173069684369| 7.983597719753965|\n",
      "|    min|               101|                 1|             70.0|             71.3|             -12.2|\n",
      "|    max|               317|                 3|             94.9|            103.6|              21.5|\n",
      "+-------+------------------+------------------+-----------------+-----------------+------------------+\n",
      "\n"
     ]
    }
   ],
   "source": [
    "df.describe().show()"
   ]
  },
  {
   "cell_type": "markdown",
   "metadata": {},
   "source": [
    "# The treatments"
   ]
  },
  {
   "cell_type": "markdown",
   "metadata": {},
   "source": [
    "Columna __grupo__. Según https://stat.ethz.ch/R-manual/R-devel/library/MASS/html/anorexia.html, nuestra base de datos anorexia.csv cambio de peso de datos para pacientes jóvenes con anorexia femenina.\n",
    "Este conjunto de datos contiene los pesos registrados de pacientes anoréxicos antes y después de un tratamiento.\n",
    "\n",
    "* Grupo 1: Terapia individual\n",
    "* Grupo 2: Grupo de control\n",
    "* Grupo 3: Terapia familiar\n",
    "\n",
    "La columna Prewt\n",
    "\n",
    "       Indica el peso del paciente antes del período de estudio, en libras.\n",
    "\n",
    "Postwt\n",
    "\n",
    "       Indica el peso del paciente después del período de estudio, en libras."
   ]
  },
  {
   "cell_type": "code",
   "execution_count": 23,
   "metadata": {},
   "outputs": [
    {
     "name": "stdout",
     "output_type": "stream",
     "text": [
      "+---+-----+-----+\n",
      "| ID|group|difwt|\n",
      "+---+-----+-----+\n",
      "|101|    1|  1.7|\n",
      "|201|    2| -0.5|\n",
      "|301|    3| 11.4|\n",
      "|102|    1|  0.7|\n",
      "|202|    2| -9.3|\n",
      "+---+-----+-----+\n",
      "only showing top 5 rows\n",
      "\n"
     ]
    }
   ],
   "source": [
    "#select only 2 columns\n",
    "df.select('ID','group','difwt').show(5)"
   ]
  },
  {
   "cell_type": "code",
   "execution_count": 24,
   "metadata": {},
   "outputs": [
    {
     "name": "stdout",
     "output_type": "stream",
     "text": [
      "+-----+-----+\n",
      "|group|count|\n",
      "+-----+-----+\n",
      "|    1|   29|\n",
      "|    3|   17|\n",
      "|    2|   26|\n",
      "+-----+-----+\n",
      "\n"
     ]
    }
   ],
   "source": [
    "# Frequence Table - Couting by Distinct Values in a column - df['group'].value_counts()\n",
    "df.groupBy('group').count().show()"
   ]
  },
  {
   "cell_type": "code",
   "execution_count": 31,
   "metadata": {},
   "outputs": [
    {
     "name": "stdout",
     "output_type": "stream",
     "text": [
      "+-----+-------------------+\n",
      "|group|         avg(difwt)|\n",
      "+-----+-------------------+\n",
      "|    1|  3.006896551724138|\n",
      "|    3|  7.264705882352942|\n",
      "|    2|-0.4499999999999996|\n",
      "+-----+-------------------+\n",
      "\n"
     ]
    }
   ],
   "source": [
    "df.select('group','difwt').groupBy('group').mean('difwt').show()"
   ]
  },
  {
   "cell_type": "code",
   "execution_count": 34,
   "metadata": {},
   "outputs": [
    {
     "name": "stdout",
     "output_type": "stream",
     "text": [
      "+-----+-------------------+\n",
      "|group|         avg(difwt)|\n",
      "+-----+-------------------+\n",
      "|    1|  3.006896551724138|\n",
      "|    2|-0.4499999999999996|\n",
      "|    3|  7.264705882352942|\n",
      "+-----+-------------------+\n",
      "\n"
     ]
    }
   ],
   "source": [
    "# Average by group - df[['group','difwt']].group_by('group')\n",
    "df.select('group','difwt').groupBy('group').mean('difwt').orderBy('group',ascending=True).show()"
   ]
  },
  {
   "cell_type": "markdown",
   "metadata": {},
   "source": [
    "# Con toda esa información en la mano, ¿qué tratamiento parece funcionar mejor?"
   ]
  },
  {
   "cell_type": "markdown",
   "metadata": {},
   "source": [
    "---"
   ]
  },
  {
   "cell_type": "markdown",
   "metadata": {},
   "source": [
    "## Pero sigamos analizando un poco más ..."
   ]
  },
  {
   "cell_type": "code",
   "execution_count": 35,
   "metadata": {},
   "outputs": [
    {
     "name": "stdout",
     "output_type": "stream",
     "text": [
      "+-----+-----+\n",
      "|group|prewt|\n",
      "+-----+-----+\n",
      "|    1| 80.5|\n",
      "|    2| 80.7|\n",
      "|    3| 83.8|\n",
      "+-----+-----+\n",
      "only showing top 3 rows\n",
      "\n"
     ]
    }
   ],
   "source": [
    "df.select('group','prewt').show(3)"
   ]
  },
  {
   "cell_type": "code",
   "execution_count": 40,
   "metadata": {},
   "outputs": [
    {
     "name": "stdout",
     "output_type": "stream",
     "text": [
      "+-----+-----------------+\n",
      "|group|       avg(prewt)|\n",
      "+-----+-----------------+\n",
      "|    2| 81.5576923076923|\n",
      "|    1|82.68965517241381|\n",
      "|    3|83.22941176470589|\n",
      "+-----+-----------------+\n",
      "\n"
     ]
    }
   ],
   "source": [
    "df.select('group','prewt').groupBy('group').mean('prewt').orderBy('avg(prewt)',ascending=True).show()"
   ]
  },
  {
   "cell_type": "code",
   "execution_count": 41,
   "metadata": {
    "scrolled": true
   },
   "outputs": [
    {
     "name": "stdout",
     "output_type": "stream",
     "text": [
      "+-----+----------+-----------------+\n",
      "|group|avg(group)|       avg(prewt)|\n",
      "+-----+----------+-----------------+\n",
      "|    1|       1.0|82.68965517241381|\n",
      "|    2|       2.0| 81.5576923076923|\n",
      "|    3|       3.0|83.22941176470589|\n",
      "+-----+----------+-----------------+\n",
      "\n"
     ]
    }
   ],
   "source": [
    "df.select('group','prewt').groupBy('group').mean().orderBy('group',ascending=True).show()"
   ]
  },
  {
   "cell_type": "markdown",
   "metadata": {},
   "source": [
    "# Frequence Table"
   ]
  },
  {
   "cell_type": "code",
   "execution_count": null,
   "metadata": {},
   "outputs": [],
   "source": [
    "# df['prewt'].value_counts()\n",
    "# df[['group','prewt']].group_by('group').count()"
   ]
  },
  {
   "cell_type": "code",
   "execution_count": 43,
   "metadata": {},
   "outputs": [
    {
     "name": "stdout",
     "output_type": "stream",
     "text": [
      "+-----+-----+\n",
      "|group|count|\n",
      "+-----+-----+\n",
      "|    1|   29|\n",
      "|    3|   17|\n",
      "|    2|   26|\n",
      "+-----+-----+\n",
      "\n"
     ]
    }
   ],
   "source": [
    "df.groupBy('group').count().show()"
   ]
  },
  {
   "cell_type": "code",
   "execution_count": 44,
   "metadata": {},
   "outputs": [
    {
     "name": "stdout",
     "output_type": "stream",
     "text": [
      "+-----+-----------------+\n",
      "|group|       avg(prewt)|\n",
      "+-----+-----------------+\n",
      "|    1|82.68965517241381|\n",
      "|    3|83.22941176470589|\n",
      "|    2| 81.5576923076923|\n",
      "+-----+-----------------+\n",
      "\n"
     ]
    }
   ],
   "source": [
    "df.groupBy('group').agg({'prewt':'mean'}).show()"
   ]
  },
  {
   "cell_type": "code",
   "execution_count": 45,
   "metadata": {},
   "outputs": [
    {
     "name": "stdout",
     "output_type": "stream",
     "text": [
      "+-----+-----------------+\n",
      "|group|       avg(prewt)|\n",
      "+-----+-----------------+\n",
      "|    1|82.68965517241381|\n",
      "|    2| 81.5576923076923|\n",
      "|    3|83.22941176470589|\n",
      "+-----+-----------------+\n",
      "\n"
     ]
    }
   ],
   "source": [
    "df.groupBy('group').agg({'prewt':'mean'}).orderBy('group',ascending=True).show()"
   ]
  },
  {
   "cell_type": "code",
   "execution_count": 46,
   "metadata": {},
   "outputs": [
    {
     "name": "stdout",
     "output_type": "stream",
     "text": [
      "+-----+----------+\n",
      "|group|min(prewt)|\n",
      "+-----+----------+\n",
      "|    1|      70.0|\n",
      "|    2|      70.5|\n",
      "|    3|      73.4|\n",
      "+-----+----------+\n",
      "\n"
     ]
    }
   ],
   "source": [
    "df.groupBy('group').agg({'prewt':'min'}).orderBy('group',ascending=True).show()"
   ]
  },
  {
   "cell_type": "code",
   "execution_count": 47,
   "metadata": {},
   "outputs": [
    {
     "name": "stdout",
     "output_type": "stream",
     "text": [
      "+-----+----------+\n",
      "|group|max(prewt)|\n",
      "+-----+----------+\n",
      "|    1|      94.9|\n",
      "|    2|      91.8|\n",
      "|    3|      94.2|\n",
      "+-----+----------+\n",
      "\n"
     ]
    }
   ],
   "source": [
    "df.groupBy('group').agg({'prewt':'max'}).orderBy('group',ascending=True).show()"
   ]
  },
  {
   "cell_type": "code",
   "execution_count": 48,
   "metadata": {},
   "outputs": [
    {
     "name": "stdout",
     "output_type": "stream",
     "text": [
      "+-----+-----------------+\n",
      "|group|    stddev(prewt)|\n",
      "+-----+-----------------+\n",
      "|    1|4.845494580947352|\n",
      "|    2|5.707060404581194|\n",
      "|    3|5.016692723533399|\n",
      "+-----+-----------------+\n",
      "\n"
     ]
    }
   ],
   "source": [
    "df.groupBy('group').agg({'prewt':'std'}).orderBy('group',ascending=True).show()"
   ]
  },
  {
   "cell_type": "code",
   "execution_count": 49,
   "metadata": {},
   "outputs": [
    {
     "data": {
      "text/plain": [
       "['ID', 'group', 'prewt', 'postwt', 'difwt']"
      ]
     },
     "execution_count": 49,
     "metadata": {},
     "output_type": "execute_result"
    }
   ],
   "source": [
    "df.columns"
   ]
  },
  {
   "cell_type": "code",
   "execution_count": 52,
   "metadata": {},
   "outputs": [
    {
     "data": {
      "text/plain": [
       "dict"
      ]
     },
     "execution_count": 52,
     "metadata": {},
     "output_type": "execute_result"
    }
   ],
   "source": [
    "a = {'prewt':'mean','prewt':'std','postwt':'max'}\n",
    "type(a)"
   ]
  },
  {
   "cell_type": "code",
   "execution_count": 53,
   "metadata": {},
   "outputs": [
    {
     "data": {
      "text/plain": [
       "{'prewt': 'std', 'postwt': 'max'}"
      ]
     },
     "execution_count": 53,
     "metadata": {},
     "output_type": "execute_result"
    }
   ],
   "source": [
    "a"
   ]
  },
  {
   "cell_type": "code",
   "execution_count": 51,
   "metadata": {},
   "outputs": [
    {
     "name": "stdout",
     "output_type": "stream",
     "text": [
      "+-----+-----------+-----------------+\n",
      "|group|max(postwt)|    stddev(prewt)|\n",
      "+-----+-----------+-----------------+\n",
      "|    1|      103.6|4.845494580947352|\n",
      "|    3|      101.6|5.016692723533399|\n",
      "|    2|       89.6|5.707060404581194|\n",
      "+-----+-----------+-----------------+\n",
      "\n"
     ]
    }
   ],
   "source": [
    "df.groupBy('group').agg({'prewt':'mean','prewt':'std','postwt':'max'}).show()"
   ]
  },
  {
   "cell_type": "markdown",
   "metadata": {},
   "source": [
    "# Más de una métrica con una misma columna\n",
    "Como pasando un diccionario no podemos repetir claves, \n",
    "para calcular más de una métrica de la misma columna tenemos que pasar de los diccionarios a una\n",
    "lista de parametros de spark (by David Garcia)"
   ]
  },
  {
   "cell_type": "code",
   "execution_count": 58,
   "metadata": {},
   "outputs": [
    {
     "name": "stdout",
     "output_type": "stream",
     "text": [
      "+-----+-----------------+----------+----------+\n",
      "|group|       avg(prewt)|min(difwt)|max(prewt)|\n",
      "+-----+-----------------+----------+----------+\n",
      "|    1|82.68965517241381|      -9.1|      94.9|\n",
      "|    3|83.22941176470589|      -5.3|      94.2|\n",
      "|    2| 81.5576923076923|     -12.2|      91.8|\n",
      "+-----+-----------------+----------+----------+\n",
      "\n"
     ]
    }
   ],
   "source": [
    "from pyspark.sql import functions as func\n",
    "df.groupBy('group').agg(func.avg('prewt'), func.min('difwt'), func.max('prewt')).show()"
   ]
  },
  {
   "cell_type": "markdown",
   "metadata": {},
   "source": [
    "# Conclusiones\n",
    "\n",
    "El tratamiento 3 parece ser mejor, sin embargo, los tratamientos parecen aplicarse para muestras no extraídas al azar.\n",
    "\n",
    "La forma en que decidimos analizar los datos puede conducir a resultados completamente diferentes.\n",
    "A menudo, puede influir (intencionalmente o no) en lo que la gente da por sentado, dependiendo de cómo se comuniquen los resultados.\n",
    "\n",
    "## Consejos\n",
    "\n",
    "Sea escéptico de sus resultados y de los que brindan otros.\n",
    "Considere otras formas de analizar los datos y si los eligió correctamente."
   ]
  },
  {
   "cell_type": "markdown",
   "metadata": {},
   "source": [
    "---"
   ]
  },
  {
   "cell_type": "markdown",
   "metadata": {},
   "source": [
    "# EJERCICIOS - BLOQUE 1: \n",
    "1. Importe la base de datos census.csv a un Spark Data Frame\n",
    "1. Identificar el tipo de datos de todas las variables.\n",
    "1. Hacer un análisis de esta base de datos utilizando las herramientas previamente aprendidas, aplicar describe [Media, Min, Max y Desviación Estandard] a por lo menos una columna numerica y hacer una tabla de frecuencia por los menos una columna categorica.\n",
    "1. Elija al menos una variable categórica y calcule las métricas [Media, Min, Max y Desviación Estandard] para por lo menos una variable numérica según los grupos de la variable categórica elejida."
   ]
  },
  {
   "cell_type": "code",
   "execution_count": null,
   "metadata": {},
   "outputs": [],
   "source": []
  },
  {
   "cell_type": "code",
   "execution_count": 55,
   "metadata": {},
   "outputs": [
    {
     "name": "stdout",
     "output_type": "stream",
     "text": [
      "root\n",
      " |-- age: integer (nullable = true)\n",
      " |-- workclass: string (nullable = true)\n",
      " |-- education: string (nullable = true)\n",
      " |-- education_num: integer (nullable = true)\n",
      " |-- marital_status: string (nullable = true)\n",
      " |-- occupation: string (nullable = true)\n",
      " |-- relationship: string (nullable = true)\n",
      " |-- race: string (nullable = true)\n",
      " |-- gender: string (nullable = true)\n",
      " |-- hours_per_week: integer (nullable = true)\n",
      " |-- native_country: string (nullable = true)\n",
      " |-- greater_than_50k: integer (nullable = true)\n",
      "\n"
     ]
    },
    {
     "name": "stderr",
     "output_type": "stream",
     "text": [
      "\r",
      "[Stage 110:>                                                        (0 + 1) / 1]\r",
      "\r",
      "                                                                                \r"
     ]
    }
   ],
   "source": [
    "census = spark.read \\\n",
    "    .option(\"header\", \"true\") \\\n",
    "    .option(\"inferSchema\", \"true\") \\\n",
    "    .csv(\"census.csv\")  \n",
    " \n",
    "census.printSchema()"
   ]
  },
  {
   "cell_type": "code",
   "execution_count": 56,
   "metadata": {},
   "outputs": [
    {
     "name": "stdout",
     "output_type": "stream",
     "text": [
      "+--------------+\n",
      "|native_country|\n",
      "+--------------+\n",
      "| United-States|\n",
      "| United-States|\n",
      "| United-States|\n",
      "+--------------+\n",
      "only showing top 3 rows\n",
      "\n"
     ]
    }
   ],
   "source": [
    "census.select('native_country').show(3)"
   ]
  },
  {
   "cell_type": "code",
   "execution_count": 57,
   "metadata": {},
   "outputs": [
    {
     "name": "stderr",
     "output_type": "stream",
     "text": [
      "\r",
      "[Stage 112:>                                                        (0 + 1) / 1]\r"
     ]
    },
    {
     "name": "stdout",
     "output_type": "stream",
     "text": [
      "+-------+------------------+------------------+------------------+-------------------+\n",
      "|summary|               age|     education_num|    hours_per_week|   greater_than_50k|\n",
      "+-------+------------------+------------------+------------------+-------------------+\n",
      "|  count|             32560|             32560|             32560|              32560|\n",
      "|   mean|38.581848894348894|10.080681818181818|40.437469287469284|0.24081695331695332|\n",
      "| stddev|13.640593255110998|2.5727598014993664|12.347618058479533| 0.4275859720299747|\n",
      "|    min|                17|                 1|                 1|                  0|\n",
      "|    max|                90|                16|                99|                  1|\n",
      "+-------+------------------+------------------+------------------+-------------------+\n",
      "\n"
     ]
    },
    {
     "name": "stderr",
     "output_type": "stream",
     "text": [
      "\r",
      "                                                                                \r"
     ]
    }
   ],
   "source": [
    "\n",
    " \n",
    "census.select('age', 'education_num', 'hours_per_week', 'greater_than_50k').describe().show()\n",
    " "
   ]
  },
  {
   "cell_type": "code",
   "execution_count": null,
   "metadata": {},
   "outputs": [],
   "source": []
  },
  {
   "cell_type": "code",
   "execution_count": null,
   "metadata": {},
   "outputs": [],
   "source": []
  },
  {
   "cell_type": "code",
   "execution_count": null,
   "metadata": {},
   "outputs": [],
   "source": []
  },
  {
   "cell_type": "code",
   "execution_count": null,
   "metadata": {},
   "outputs": [],
   "source": []
  },
  {
   "cell_type": "code",
   "execution_count": 59,
   "metadata": {},
   "outputs": [
    {
     "name": "stdout",
     "output_type": "stream",
     "text": [
      "+-------+------------------+------------------+------------------+-------------------+\n",
      "|summary|               age|     education_num|    hours_per_week|   greater_than_50k|\n",
      "+-------+------------------+------------------+------------------+-------------------+\n",
      "|  count|             32560|             32560|             32560|              32560|\n",
      "|   mean|38.581848894348894|10.080681818181818|40.437469287469284|0.24081695331695332|\n",
      "| stddev|13.640593255110998|2.5727598014993664|12.347618058479533| 0.4275859720299747|\n",
      "|    min|                17|                 1|                 1|                  0|\n",
      "|    max|                90|                16|                99|                  1|\n",
      "+-------+------------------+------------------+------------------+-------------------+\n",
      "\n",
      "+---+-----+\n",
      "|age|count|\n",
      "+---+-----+\n",
      "|36 |898  |\n",
      "|31 |888  |\n",
      "|34 |886  |\n",
      "|23 |877  |\n",
      "|35 |876  |\n",
      "+---+-----+\n",
      "only showing top 5 rows\n",
      "\n"
     ]
    },
    {
     "name": "stderr",
     "output_type": "stream",
     "text": [
      "                                                                                \r"
     ]
    },
    {
     "name": "stdout",
     "output_type": "stream",
     "text": [
      "+-----------------+-----+\n",
      "|workclass        |count|\n",
      "+-----------------+-----+\n",
      "| Private         |22695|\n",
      "| Self-emp-not-inc|2541 |\n",
      "| Local-gov       |2093 |\n",
      "|null             |1836 |\n",
      "| State-gov       |1298 |\n",
      "+-----------------+-----+\n",
      "only showing top 5 rows\n",
      "\n",
      "+-------------+-----+\n",
      "|education    |count|\n",
      "+-------------+-----+\n",
      "| HS-grad     |10501|\n",
      "| Some-college|7290 |\n",
      "| Bachelors   |5355 |\n",
      "| Masters     |1723 |\n",
      "| Assoc-voc   |1382 |\n",
      "+-------------+-----+\n",
      "only showing top 5 rows\n",
      "\n",
      "+-------------+-----+\n",
      "|education_num|count|\n",
      "+-------------+-----+\n",
      "|9            |10501|\n",
      "|10           |7290 |\n",
      "|13           |5355 |\n",
      "|14           |1723 |\n",
      "|11           |1382 |\n",
      "+-------------+-----+\n",
      "only showing top 5 rows\n",
      "\n",
      "+-------------------+-----+\n",
      "|marital_status     |count|\n",
      "+-------------------+-----+\n",
      "| Married-civ-spouse|14976|\n",
      "| Never-married     |10682|\n",
      "| Divorced          |4443 |\n",
      "| Separated         |1025 |\n",
      "| Widowed           |993  |\n",
      "+-------------------+-----+\n",
      "only showing top 5 rows\n",
      "\n",
      "+----------------+-----+\n",
      "|occupation      |count|\n",
      "+----------------+-----+\n",
      "| Prof-specialty |4140 |\n",
      "| Craft-repair   |4099 |\n",
      "| Exec-managerial|4066 |\n",
      "| Adm-clerical   |3770 |\n",
      "| Sales          |3650 |\n",
      "+----------------+-----+\n",
      "only showing top 5 rows\n",
      "\n",
      "+--------------+-----+\n",
      "|relationship  |count|\n",
      "+--------------+-----+\n",
      "| Husband      |13193|\n",
      "| Not-in-family|8305 |\n",
      "| Own-child    |5068 |\n",
      "| Unmarried    |3446 |\n",
      "| Wife         |1568 |\n",
      "+--------------+-----+\n",
      "only showing top 5 rows\n",
      "\n",
      "+-------------------+-----+\n",
      "|race               |count|\n",
      "+-------------------+-----+\n",
      "| White             |27815|\n",
      "| Black             |3124 |\n",
      "| Asian-Pac-Islander|1039 |\n",
      "| Amer-Indian-Eskimo|311  |\n",
      "| Other             |271  |\n",
      "+-------------------+-----+\n",
      "\n",
      "+-------+-----+\n",
      "|gender |count|\n",
      "+-------+-----+\n",
      "| Male  |21790|\n",
      "| Female|10770|\n",
      "+-------+-----+\n",
      "\n",
      "+--------------+-----+\n",
      "|hours_per_week|count|\n",
      "+--------------+-----+\n",
      "|40            |15216|\n",
      "|50            |2819 |\n",
      "|45            |1824 |\n",
      "|60            |1475 |\n",
      "|35            |1297 |\n",
      "+--------------+-----+\n",
      "only showing top 5 rows\n",
      "\n",
      "+--------------+-----+\n",
      "|native_country|count|\n",
      "+--------------+-----+\n",
      "| United-States|29170|\n",
      "| Mexico       |643  |\n",
      "|null          |583  |\n",
      "| Philippines  |198  |\n",
      "| Germany      |137  |\n",
      "+--------------+-----+\n",
      "only showing top 5 rows\n",
      "\n",
      "+----------------+-----+\n",
      "|greater_than_50k|count|\n",
      "+----------------+-----+\n",
      "|0               |24719|\n",
      "|1               |7841 |\n",
      "+----------------+-----+\n",
      "\n"
     ]
    }
   ],
   "source": [
    "\n",
    " \n",
    "census.select('age', 'education_num', 'hours_per_week', 'greater_than_50k').describe().show()\n",
    " \n",
    "for col in census.columns:\n",
    "    census.groupBy(col).count().orderBy('count', ascending=False).show(5,False)"
   ]
  },
  {
   "cell_type": "code",
   "execution_count": null,
   "metadata": {},
   "outputs": [],
   "source": []
  },
  {
   "cell_type": "code",
   "execution_count": null,
   "metadata": {},
   "outputs": [],
   "source": []
  },
  {
   "cell_type": "code",
   "execution_count": null,
   "metadata": {},
   "outputs": [],
   "source": []
  },
  {
   "cell_type": "markdown",
   "metadata": {},
   "source": [
    "---"
   ]
  },
  {
   "cell_type": "markdown",
   "metadata": {},
   "source": [
    "# Spark Dataframe - Bloque 2"
   ]
  },
  {
   "cell_type": "code",
   "execution_count": 60,
   "metadata": {},
   "outputs": [],
   "source": [
    "df = spark.read \\\n",
    "    .option(\"header\", \"true\") \\\n",
    "    .option(\"inferSchema\", \"true\") \\\n",
    "    .csv(\"housing.csv\")  "
   ]
  },
  {
   "cell_type": "code",
   "execution_count": 61,
   "metadata": {},
   "outputs": [
    {
     "data": {
      "text/plain": [
       "20640"
      ]
     },
     "execution_count": 61,
     "metadata": {},
     "output_type": "execute_result"
    }
   ],
   "source": [
    "df.count()"
   ]
  },
  {
   "cell_type": "code",
   "execution_count": 62,
   "metadata": {},
   "outputs": [
    {
     "name": "stdout",
     "output_type": "stream",
     "text": [
      "root\n",
      " |-- longitude: double (nullable = true)\n",
      " |-- latitude: double (nullable = true)\n",
      " |-- housing_median_age: double (nullable = true)\n",
      " |-- total_rooms: double (nullable = true)\n",
      " |-- total_bedrooms: double (nullable = true)\n",
      " |-- population: double (nullable = true)\n",
      " |-- households: double (nullable = true)\n",
      " |-- median_income: double (nullable = true)\n",
      " |-- median_house_value: double (nullable = true)\n",
      " |-- ocean_proximity: string (nullable = true)\n",
      "\n"
     ]
    }
   ],
   "source": [
    "#printSchema\n",
    "df.printSchema()"
   ]
  },
  {
   "cell_type": "code",
   "execution_count": 63,
   "metadata": {},
   "outputs": [
    {
     "data": {
      "text/plain": [
       "pyspark.sql.dataframe.DataFrame"
      ]
     },
     "execution_count": 63,
     "metadata": {},
     "output_type": "execute_result"
    }
   ],
   "source": [
    "type(df)"
   ]
  },
  {
   "cell_type": "code",
   "execution_count": 64,
   "metadata": {},
   "outputs": [
    {
     "data": {
      "text/plain": [
       "['longitude',\n",
       " 'latitude',\n",
       " 'housing_median_age',\n",
       " 'total_rooms',\n",
       " 'total_bedrooms',\n",
       " 'population',\n",
       " 'households',\n",
       " 'median_income',\n",
       " 'median_house_value',\n",
       " 'ocean_proximity']"
      ]
     },
     "execution_count": 64,
     "metadata": {},
     "output_type": "execute_result"
    }
   ],
   "source": [
    "# columns of dataframe\n",
    "df.columns"
   ]
  },
  {
   "cell_type": "code",
   "execution_count": 65,
   "metadata": {},
   "outputs": [
    {
     "data": {
      "text/plain": [
       "10"
      ]
     },
     "execution_count": 65,
     "metadata": {},
     "output_type": "execute_result"
    }
   ],
   "source": [
    "#check number of columns\n",
    "len(df.columns)"
   ]
  },
  {
   "cell_type": "code",
   "execution_count": 66,
   "metadata": {},
   "outputs": [
    {
     "data": {
      "text/plain": [
       "20640"
      ]
     },
     "execution_count": 66,
     "metadata": {},
     "output_type": "execute_result"
    }
   ],
   "source": [
    "#number of records in dataframe\n",
    "df.count()"
   ]
  },
  {
   "cell_type": "code",
   "execution_count": 67,
   "metadata": {},
   "outputs": [],
   "source": [
    "# df.shape - existe en pandas"
   ]
  },
  {
   "cell_type": "code",
   "execution_count": 68,
   "metadata": {},
   "outputs": [
    {
     "name": "stdout",
     "output_type": "stream",
     "text": [
      "(20640, 10)\n"
     ]
    }
   ],
   "source": [
    "#shape of dataset\n",
    "print((df.count(),len(df.columns)))"
   ]
  },
  {
   "cell_type": "code",
   "execution_count": 69,
   "metadata": {},
   "outputs": [
    {
     "data": {
      "text/plain": [
       "[Row(longitude=-122.23, latitude=37.88, housing_median_age=41.0, total_rooms=880.0, total_bedrooms=129.0, population=322.0, households=126.0, median_income=8.3252, median_house_value=452600.0, ocean_proximity='NEAR BAY'),\n",
       " Row(longitude=-122.22, latitude=37.86, housing_median_age=21.0, total_rooms=7099.0, total_bedrooms=1106.0, population=2401.0, households=1138.0, median_income=8.3014, median_house_value=358500.0, ocean_proximity='NEAR BAY'),\n",
       " Row(longitude=-122.24, latitude=37.85, housing_median_age=52.0, total_rooms=1467.0, total_bedrooms=190.0, population=496.0, households=177.0, median_income=7.2574, median_house_value=352100.0, ocean_proximity='NEAR BAY')]"
      ]
     },
     "execution_count": 69,
     "metadata": {},
     "output_type": "execute_result"
    }
   ],
   "source": [
    "df.head(3)"
   ]
  },
  {
   "cell_type": "code",
   "execution_count": 70,
   "metadata": {},
   "outputs": [
    {
     "data": {
      "text/plain": [
       "[Row(longitude=-121.22, latitude=39.43, housing_median_age=17.0, total_rooms=2254.0, total_bedrooms=485.0, population=1007.0, households=433.0, median_income=1.7, median_house_value=92300.0, ocean_proximity='INLAND'),\n",
       " Row(longitude=-121.32, latitude=39.43, housing_median_age=18.0, total_rooms=1860.0, total_bedrooms=409.0, population=741.0, households=349.0, median_income=1.8672, median_house_value=84700.0, ocean_proximity='INLAND'),\n",
       " Row(longitude=-121.24, latitude=39.37, housing_median_age=16.0, total_rooms=2785.0, total_bedrooms=616.0, population=1387.0, households=530.0, median_income=2.3886, median_house_value=89400.0, ocean_proximity='INLAND')]"
      ]
     },
     "execution_count": 70,
     "metadata": {},
     "output_type": "execute_result"
    }
   ],
   "source": [
    "df.tail(3) # Es importante porque pasaré una basse de datos con problemas al final!"
   ]
  },
  {
   "cell_type": "code",
   "execution_count": 72,
   "metadata": {},
   "outputs": [
    {
     "name": "stdout",
     "output_type": "stream",
     "text": [
      "+---------+--------+------------------+-----------+--------------+----------+----------+-------------+------------------+---------------+\n",
      "|longitude|latitude|housing_median_age|total_rooms|total_bedrooms|population|households|median_income|median_house_value|ocean_proximity|\n",
      "+---------+--------+------------------+-----------+--------------+----------+----------+-------------+------------------+---------------+\n",
      "|  -122.23|   37.88|              41.0|      880.0|         129.0|     322.0|     126.0|       8.3252|          452600.0|       NEAR BAY|\n",
      "|  -122.22|   37.86|              21.0|     7099.0|        1106.0|    2401.0|    1138.0|       8.3014|          358500.0|       NEAR BAY|\n",
      "|  -122.24|   37.85|              52.0|     1467.0|         190.0|     496.0|     177.0|       7.2574|          352100.0|       NEAR BAY|\n",
      "|  -122.25|   37.85|              52.0|     1274.0|         235.0|     558.0|     219.0|       5.6431|          341300.0|       NEAR BAY|\n",
      "|  -122.25|   37.85|              52.0|     1627.0|         280.0|     565.0|     259.0|       3.8462|          342200.0|       NEAR BAY|\n",
      "+---------+--------+------------------+-----------+--------------+----------+----------+-------------+------------------+---------------+\n",
      "only showing top 5 rows\n",
      "\n"
     ]
    }
   ],
   "source": [
    "#fisrt few rows of dataframe\n",
    "df.show(5)"
   ]
  },
  {
   "cell_type": "code",
   "execution_count": 78,
   "metadata": {},
   "outputs": [
    {
     "name": "stdout",
     "output_type": "stream",
     "text": [
      "+---------+--------+------------------+-----------+--------------+----------+----------+-------------+\n",
      "|longitude|latitude|housing_median_age|total_rooms|total_bedrooms|population|households|median_income|\n",
      "+---------+--------+------------------+-----------+--------------+----------+----------+-------------+\n",
      "|  -122.23|   37.88|              41.0|      880.0|         129.0|     322.0|     126.0|       8.3252|\n",
      "|  -122.22|   37.86|              21.0|     7099.0|        1106.0|    2401.0|    1138.0|       8.3014|\n",
      "|  -122.24|   37.85|              52.0|     1467.0|         190.0|     496.0|     177.0|       7.2574|\n",
      "|  -122.25|   37.85|              52.0|     1274.0|         235.0|     558.0|     219.0|       5.6431|\n",
      "|  -122.25|   37.85|              52.0|     1627.0|         280.0|     565.0|     259.0|       3.8462|\n",
      "+---------+--------+------------------+-----------+--------------+----------+----------+-------------+\n",
      "only showing top 5 rows\n",
      "\n"
     ]
    }
   ],
   "source": [
    "#select only 2 columns\n",
    "df.select(df.columns[0:8]).show(5)"
   ]
  },
  {
   "cell_type": "code",
   "execution_count": 79,
   "metadata": {},
   "outputs": [
    {
     "name": "stdout",
     "output_type": "stream",
     "text": [
      "+------------------+---------------+\n",
      "|median_house_value|ocean_proximity|\n",
      "+------------------+---------------+\n",
      "|          452600.0|       NEAR BAY|\n",
      "|          358500.0|       NEAR BAY|\n",
      "|          352100.0|       NEAR BAY|\n",
      "|          341300.0|       NEAR BAY|\n",
      "|          342200.0|       NEAR BAY|\n",
      "+------------------+---------------+\n",
      "only showing top 5 rows\n",
      "\n"
     ]
    }
   ],
   "source": [
    "df.select(df.columns[8:]).show(5)"
   ]
  },
  {
   "cell_type": "code",
   "execution_count": 80,
   "metadata": {},
   "outputs": [
    {
     "name": "stdout",
     "output_type": "stream",
     "text": [
      "+-------+------------------+------------------+\n",
      "|summary|housing_median_age|    total_bedrooms|\n",
      "+-------+------------------+------------------+\n",
      "|  count|             20640|             20433|\n",
      "|   mean|28.639486434108527| 537.8705525375618|\n",
      "| stddev| 12.58555761211163|421.38507007403115|\n",
      "|    min|               1.0|               1.0|\n",
      "|    max|              52.0|            6445.0|\n",
      "+-------+------------------+------------------+\n",
      "\n"
     ]
    }
   ],
   "source": [
    "# STATISTICAL info about dataframe\n",
    "df.select('housing_median_age','total_bedrooms').describe().show()"
   ]
  },
  {
   "cell_type": "code",
   "execution_count": 81,
   "metadata": {},
   "outputs": [
    {
     "name": "stdout",
     "output_type": "stream",
     "text": [
      "+---------------+\n",
      "|ocean_proximity|\n",
      "+---------------+\n",
      "|         ISLAND|\n",
      "|     NEAR OCEAN|\n",
      "|       NEAR BAY|\n",
      "|      <1H OCEAN|\n",
      "|         INLAND|\n",
      "+---------------+\n",
      "\n"
     ]
    }
   ],
   "source": [
    "df.select('ocean_proximity').distinct().show()"
   ]
  },
  {
   "cell_type": "code",
   "execution_count": 85,
   "metadata": {},
   "outputs": [
    {
     "name": "stdout",
     "output_type": "stream",
     "text": [
      "+---------+--------+------------------+-----------+--------------+----------+----------+-------------+\n",
      "|longitude|latitude|housing_median_age|total_rooms|total_bedrooms|population|households|median_income|\n",
      "+---------+--------+------------------+-----------+--------------+----------+----------+-------------+\n",
      "|  -122.23|   37.88|              41.0|      880.0|         129.0|     322.0|     126.0|       8.3252|\n",
      "|  -122.22|   37.86|              21.0|     7099.0|        1106.0|    2401.0|    1138.0|       8.3014|\n",
      "|  -122.24|   37.85|              52.0|     1467.0|         190.0|     496.0|     177.0|       7.2574|\n",
      "+---------+--------+------------------+-----------+--------------+----------+----------+-------------+\n",
      "only showing top 3 rows\n",
      "\n"
     ]
    }
   ],
   "source": [
    "df.filter(df['ocean_proximity']=='NEAR BAY').select(df.columns[:8]).show(3)"
   ]
  },
  {
   "cell_type": "code",
   "execution_count": 86,
   "metadata": {},
   "outputs": [
    {
     "name": "stdout",
     "output_type": "stream",
     "text": [
      "+------------------+---------------+\n",
      "|median_house_value|ocean_proximity|\n",
      "+------------------+---------------+\n",
      "|          452600.0|       NEAR BAY|\n",
      "|          358500.0|       NEAR BAY|\n",
      "|          352100.0|       NEAR BAY|\n",
      "+------------------+---------------+\n",
      "only showing top 3 rows\n",
      "\n"
     ]
    }
   ],
   "source": [
    "#filter the records \n",
    "df.filter(df['ocean_proximity']=='NEAR BAY').select(df.columns[8:]).show(3)"
   ]
  },
  {
   "cell_type": "code",
   "execution_count": 87,
   "metadata": {},
   "outputs": [
    {
     "name": "stdout",
     "output_type": "stream",
     "text": [
      "+---------------+---------+--------+------------------+\n",
      "|ocean_proximity|longitude|latitude|housing_median_age|\n",
      "+---------------+---------+--------+------------------+\n",
      "|       NEAR BAY|  -122.23|   37.88|              41.0|\n",
      "|       NEAR BAY|  -122.22|   37.86|              21.0|\n",
      "|       NEAR BAY|  -122.24|   37.85|              52.0|\n",
      "|       NEAR BAY|  -122.25|   37.85|              52.0|\n",
      "|       NEAR BAY|  -122.25|   37.85|              52.0|\n",
      "|       NEAR BAY|  -122.25|   37.85|              52.0|\n",
      "|       NEAR BAY|  -122.25|   37.84|              52.0|\n",
      "|       NEAR BAY|  -122.25|   37.84|              52.0|\n",
      "|       NEAR BAY|  -122.26|   37.84|              42.0|\n",
      "|       NEAR BAY|  -122.25|   37.84|              52.0|\n",
      "|       NEAR BAY|  -122.26|   37.85|              52.0|\n",
      "|       NEAR BAY|  -122.26|   37.85|              52.0|\n",
      "|       NEAR BAY|  -122.26|   37.85|              52.0|\n",
      "|       NEAR BAY|  -122.26|   37.84|              52.0|\n",
      "|       NEAR BAY|  -122.26|   37.85|              52.0|\n",
      "|       NEAR BAY|  -122.26|   37.85|              50.0|\n",
      "|       NEAR BAY|  -122.27|   37.85|              52.0|\n",
      "|       NEAR BAY|  -122.27|   37.85|              52.0|\n",
      "|       NEAR BAY|  -122.26|   37.84|              50.0|\n",
      "|       NEAR BAY|  -122.27|   37.84|              52.0|\n",
      "+---------------+---------+--------+------------------+\n",
      "only showing top 20 rows\n",
      "\n"
     ]
    }
   ],
   "source": [
    "#filter the records \n",
    "df.filter(df['ocean_proximity']=='NEAR BAY'). \\\n",
    "select('ocean_proximity','longitude','latitude','housing_median_age').show()"
   ]
  },
  {
   "cell_type": "code",
   "execution_count": 93,
   "metadata": {},
   "outputs": [
    {
     "name": "stdout",
     "output_type": "stream",
     "text": [
      "+---------------+---------+--------+------------------+\n",
      "|ocean_proximity|longitude|latitude|housing_median_age|\n",
      "+---------------+---------+--------+------------------+\n",
      "|       NEAR BAY|  -122.23|   37.88|              41.0|\n",
      "|       NEAR BAY|  -122.22|   37.86|              21.0|\n",
      "|       NEAR BAY|  -122.24|   37.85|              52.0|\n",
      "|       NEAR BAY|  -122.25|   37.85|              52.0|\n",
      "|       NEAR BAY|  -122.25|   37.85|              52.0|\n",
      "|       NEAR BAY|  -122.25|   37.85|              52.0|\n",
      "|       NEAR BAY|  -122.25|   37.84|              52.0|\n",
      "|       NEAR BAY|  -122.25|   37.84|              52.0|\n",
      "|       NEAR BAY|  -122.26|   37.84|              42.0|\n",
      "|       NEAR BAY|  -122.25|   37.84|              52.0|\n",
      "|       NEAR BAY|  -122.26|   37.85|              52.0|\n",
      "|       NEAR BAY|  -122.26|   37.85|              52.0|\n",
      "|       NEAR BAY|  -122.26|   37.85|              52.0|\n",
      "|       NEAR BAY|  -122.26|   37.84|              52.0|\n",
      "|       NEAR BAY|  -122.26|   37.85|              52.0|\n",
      "|       NEAR BAY|  -122.26|   37.85|              50.0|\n",
      "|       NEAR BAY|  -122.27|   37.85|              52.0|\n",
      "|       NEAR BAY|  -122.27|   37.85|              52.0|\n",
      "|       NEAR BAY|  -122.26|   37.84|              50.0|\n",
      "|       NEAR BAY|  -122.27|   37.84|              52.0|\n",
      "+---------------+---------+--------+------------------+\n",
      "only showing top 20 rows\n",
      "\n"
     ]
    }
   ],
   "source": [
    "df.select('ocean_proximity','longitude','latitude','housing_median_age'). \\\n",
    "filter(df['ocean_proximity']=='NEAR BAY').show()"
   ]
  },
  {
   "cell_type": "code",
   "execution_count": 94,
   "metadata": {},
   "outputs": [
    {
     "name": "stdout",
     "output_type": "stream",
     "text": [
      "+---------------+---------+--------+------------------+\n",
      "|ocean_proximity|longitude|latitude|housing_median_age|\n",
      "+---------------+---------+--------+------------------+\n",
      "|       NEAR BAY|  -122.24|   37.85|              52.0|\n",
      "|       NEAR BAY|  -122.25|   37.85|              52.0|\n",
      "|       NEAR BAY|  -122.25|   37.85|              52.0|\n",
      "+---------------+---------+--------+------------------+\n",
      "only showing top 3 rows\n",
      "\n"
     ]
    }
   ],
   "source": [
    "#filter the multiple conditions\n",
    "df.filter(df['ocean_proximity']=='NEAR BAY') \\\n",
    "    .filter(df['housing_median_age'] >50)\\\n",
    "    .select('ocean_proximity','longitude','latitude','housing_median_age')\\\n",
    "    .show(3)"
   ]
  },
  {
   "cell_type": "code",
   "execution_count": 95,
   "metadata": {},
   "outputs": [
    {
     "name": "stdout",
     "output_type": "stream",
     "text": [
      "+---------------+---------+--------+------------------+\n",
      "|ocean_proximity|longitude|latitude|housing_median_age|\n",
      "+---------------+---------+--------+------------------+\n",
      "|       NEAR BAY|  -122.24|   37.85|              52.0|\n",
      "|       NEAR BAY|  -122.25|   37.85|              52.0|\n",
      "|       NEAR BAY|  -122.25|   37.85|              52.0|\n",
      "+---------------+---------+--------+------------------+\n",
      "only showing top 3 rows\n",
      "\n"
     ]
    }
   ],
   "source": [
    "#filter the multiple conditions\n",
    "df.filter((df['ocean_proximity']=='NEAR BAY') & (df['housing_median_age'] >50))\\\n",
    "    .select('ocean_proximity','longitude','latitude','housing_median_age')\\\n",
    "    .show(3)"
   ]
  },
  {
   "cell_type": "code",
   "execution_count": 96,
   "metadata": {},
   "outputs": [
    {
     "name": "stdout",
     "output_type": "stream",
     "text": [
      "+---------------+\n",
      "|ocean_proximity|\n",
      "+---------------+\n",
      "|         ISLAND|\n",
      "|     NEAR OCEAN|\n",
      "|       NEAR BAY|\n",
      "|      <1H OCEAN|\n",
      "|         INLAND|\n",
      "+---------------+\n",
      "\n"
     ]
    }
   ],
   "source": [
    "#Distinct Values in a column\n",
    "df.select('ocean_proximity').distinct().show()"
   ]
  },
  {
   "cell_type": "code",
   "execution_count": 97,
   "metadata": {},
   "outputs": [
    {
     "data": {
      "text/plain": [
       "5"
      ]
     },
     "execution_count": 97,
     "metadata": {},
     "output_type": "execute_result"
    }
   ],
   "source": [
    "#distinct value count\n",
    "df.select('ocean_proximity').distinct().count()"
   ]
  },
  {
   "cell_type": "code",
   "execution_count": 102,
   "metadata": {},
   "outputs": [
    {
     "name": "stdout",
     "output_type": "stream",
     "text": [
      "+---------------+-----+\n",
      "|ocean_proximity|count|\n",
      "+---------------+-----+\n",
      "|         ISLAND|    5|\n",
      "|     NEAR OCEAN| 2658|\n",
      "|       NEAR BAY| 2290|\n",
      "|      <1H OCEAN| 9136|\n",
      "|         INLAND| 6551|\n",
      "+---------------+-----+\n",
      "\n"
     ]
    }
   ],
   "source": [
    "df.groupBy('ocean_proximity').count().show(5)"
   ]
  },
  {
   "cell_type": "code",
   "execution_count": 100,
   "metadata": {},
   "outputs": [
    {
     "name": "stdout",
     "output_type": "stream",
     "text": [
      "+---------------+-----+\n",
      "|ocean_proximity|count|\n",
      "+---------------+-----+\n",
      "|ISLAND         |5    |\n",
      "|NEAR OCEAN     |2658 |\n",
      "|NEAR BAY       |2290 |\n",
      "|<1H OCEAN      |9136 |\n",
      "|INLAND         |6551 |\n",
      "+---------------+-----+\n",
      "\n"
     ]
    }
   ],
   "source": [
    "# Frequence Table - Couting by Distinct Values in a column\n",
    "df.groupBy('ocean_proximity').count().show(5,False)"
   ]
  },
  {
   "cell_type": "code",
   "execution_count": 101,
   "metadata": {},
   "outputs": [
    {
     "name": "stdout",
     "output_type": "stream",
     "text": [
      "+---------------+-----+\n",
      "|ocean_proximity|count|\n",
      "+---------------+-----+\n",
      "|         ISLAND|    5|\n",
      "|     NEAR OCEAN| 2658|\n",
      "|       NEAR BAY| 2290|\n",
      "|      <1H OCEAN| 9136|\n",
      "|         INLAND| 6551|\n",
      "+---------------+-----+\n",
      "\n"
     ]
    }
   ],
   "source": [
    "df.groupBy('ocean_proximity').count().show(5,True)"
   ]
  },
  {
   "cell_type": "code",
   "execution_count": 103,
   "metadata": {},
   "outputs": [
    {
     "name": "stdout",
     "output_type": "stream",
     "text": [
      "+---------------+-----+\n",
      "|ocean_proximity|count|\n",
      "+---------------+-----+\n",
      "|<1H OCEAN      |9136 |\n",
      "|INLAND         |6551 |\n",
      "|NEAR OCEAN     |2658 |\n",
      "|NEAR BAY       |2290 |\n",
      "|ISLAND         |5    |\n",
      "+---------------+-----+\n",
      "\n"
     ]
    }
   ],
   "source": [
    "# Value counts - ORDERED BY COUNT\n",
    "df.groupBy('ocean_proximity').count().orderBy('count',ascending=False).show(5,False)"
   ]
  },
  {
   "cell_type": "code",
   "execution_count": 104,
   "metadata": {},
   "outputs": [
    {
     "name": "stdout",
     "output_type": "stream",
     "text": [
      "+---------------+-------------------+------------------+-----------------------+------------------+-------------------+------------------+------------------+------------------+-----------------------+\n",
      "|ocean_proximity|     avg(longitude)|     avg(latitude)|avg(housing_median_age)|  avg(total_rooms)|avg(total_bedrooms)|   avg(population)|   avg(households)|avg(median_income)|avg(median_house_value)|\n",
      "+---------------+-------------------+------------------+-----------------------+------------------+-------------------+------------------+------------------+------------------+-----------------------+\n",
      "|         ISLAND|           -118.354|33.358000000000004|                   42.4|            1574.6|              420.4|             668.0|             276.6|2.7444200000000003|               380440.0|\n",
      "|     NEAR OCEAN|-119.33255455229478| 34.73843867569602|     29.347253574115875| 2583.700902934537|  538.6156773211568|1354.0086531226486|501.24454477050415| 4.005784800601957|     249433.97742663656|\n",
      "|       NEAR BAY| -122.2606943231443|37.801056768558915|      37.73013100436681| 2493.589519650655|  514.1828193832599|1230.3174672489083| 488.6161572052402| 4.172884759825336|     259212.31179039303|\n",
      "|      <1H OCEAN|-118.84776598073506|34.560576838879264|     29.279225043782837|2628.3435858143607|  546.5391852999778|1520.2904991243433| 517.7449649737302|4.2306819176882655|     240084.28546409807|\n",
      "|         INLAND|-119.73299038314796| 36.73182872843834|      24.27186689055106|2717.7427873607085|  533.8816194581281|1391.0462524805373|477.44756525721266| 3.208996382231716|     124805.39200122119|\n",
      "+---------------+-------------------+------------------+-----------------------+------------------+-------------------+------------------+------------------+------------------+-----------------------+\n",
      "\n"
     ]
    }
   ],
   "source": [
    "# Average by group\n",
    "df.groupBy('ocean_proximity').mean().show()"
   ]
  },
  {
   "cell_type": "code",
   "execution_count": 105,
   "metadata": {},
   "outputs": [
    {
     "name": "stdout",
     "output_type": "stream",
     "text": [
      "+---------------+-----------------------+------------------+------------------+-----------------------+\n",
      "|ocean_proximity|avg(housing_median_age)|   avg(households)|avg(median_income)|avg(median_house_value)|\n",
      "+---------------+-----------------------+------------------+------------------+-----------------------+\n",
      "|         ISLAND|                   42.4|             276.6|2.7444200000000003|               380440.0|\n",
      "|     NEAR OCEAN|     29.347253574115875|501.24454477050415| 4.005784800601957|     249433.97742663656|\n",
      "|       NEAR BAY|      37.73013100436681| 488.6161572052402| 4.172884759825336|     259212.31179039303|\n",
      "|      <1H OCEAN|     29.279225043782837| 517.7449649737302|4.2306819176882655|     240084.28546409807|\n",
      "|         INLAND|      24.27186689055106|477.44756525721266| 3.208996382231716|     124805.39200122119|\n",
      "+---------------+-----------------------+------------------+------------------+-----------------------+\n",
      "\n"
     ]
    }
   ],
   "source": [
    "# Average by group with select\n",
    "df \\\n",
    "    .select('ocean_proximity','housing_median_age','households', 'median_income', 'median_house_value') \\\n",
    "    .groupBy('ocean_proximity') \\\n",
    "    .mean() \\\n",
    "    .show()"
   ]
  },
  {
   "cell_type": "code",
   "execution_count": 106,
   "metadata": {},
   "outputs": [
    {
     "name": "stdout",
     "output_type": "stream",
     "text": [
      "Es 3.048275309482793 veces más caro vivir en la isla (380440/124805)\n"
     ]
    }
   ],
   "source": [
    "print(\"Es {} veces más caro vivir en la isla ({}/{})\".format(380440/124805,380440,124805))"
   ]
  },
  {
   "cell_type": "code",
   "execution_count": null,
   "metadata": {},
   "outputs": [],
   "source": []
  },
  {
   "cell_type": "code",
   "execution_count": 107,
   "metadata": {},
   "outputs": [
    {
     "name": "stdout",
     "output_type": "stream",
     "text": [
      "+---------------+-------------------+------------------+-----------------------+----------------+-------------------+---------------+---------------+------------------+-----------------------+\n",
      "|ocean_proximity|     sum(longitude)|     sum(latitude)|sum(housing_median_age)|sum(total_rooms)|sum(total_bedrooms)|sum(population)|sum(households)|sum(median_income)|sum(median_house_value)|\n",
      "+---------------+-------------------+------------------+-----------------------+----------------+-------------------+---------------+---------------+------------------+-----------------------+\n",
      "|         ISLAND|            -591.77|166.79000000000002|                  212.0|          7873.0|             2102.0|         3340.0|         1383.0|13.722100000000001|              1902200.0|\n",
      "|     NEAR OCEAN| -317185.9299999995| 92334.77000000002|                78005.0|       6867477.0|          1415482.0|      3598955.0|      1332308.0|10647.376000000002|           6.62995512E8|\n",
      "|       NEAR BAY|-279976.99000000046| 86564.41999999991|                86402.0|       5710320.0|          1167195.0|      2817427.0|      1118931.0| 9555.906100000018|           5.93596194E8|\n",
      "|      <1H OCEAN|-1085793.1899999955| 315745.4300000009|               267495.0|     2.4012547E7|          4937435.0|    1.3889374E7|      4730118.0|38651.509999999995|          2.193410032E9|\n",
      "|         INLAND| -784370.8200000023|240630.20999999953|               159005.0|     1.7803933E7|          3468095.0|      9112744.0|      3127759.0|21022.135299999973|           8.17600123E8|\n",
      "+---------------+-------------------+------------------+-----------------------+----------------+-------------------+---------------+---------------+------------------+-----------------------+\n",
      "\n"
     ]
    }
   ],
   "source": [
    "# Average by group\n",
    "df.groupBy('ocean_proximity').sum().show()"
   ]
  },
  {
   "cell_type": "code",
   "execution_count": 108,
   "metadata": {},
   "outputs": [
    {
     "name": "stdout",
     "output_type": "stream",
     "text": [
      "+---------------+-----------------------+---------------+------------------+-----------------------+\n",
      "|ocean_proximity|sum(housing_median_age)|sum(households)|sum(median_income)|sum(median_house_value)|\n",
      "+---------------+-----------------------+---------------+------------------+-----------------------+\n",
      "|         ISLAND|                  212.0|         1383.0|13.722100000000001|              1902200.0|\n",
      "|     NEAR OCEAN|                78005.0|      1332308.0|10647.376000000002|           6.62995512E8|\n",
      "|       NEAR BAY|                86402.0|      1118931.0| 9555.906100000018|           5.93596194E8|\n",
      "|      <1H OCEAN|               267495.0|      4730118.0|38651.509999999995|          2.193410032E9|\n",
      "|         INLAND|               159005.0|      3127759.0|21022.135299999973|           8.17600123E8|\n",
      "+---------------+-----------------------+---------------+------------------+-----------------------+\n",
      "\n"
     ]
    }
   ],
   "source": [
    "# Sum by group with select\n",
    "df \\\n",
    "    .select('ocean_proximity','housing_median_age','households', 'median_income', 'median_house_value') \\\n",
    "    .groupBy('ocean_proximity') \\\n",
    "    .sum() \\\n",
    "    .show()"
   ]
  },
  {
   "cell_type": "code",
   "execution_count": 109,
   "metadata": {},
   "outputs": [
    {
     "name": "stdout",
     "output_type": "stream",
     "text": [
      "+---------------+--------------+-------------+-----------------------+----------------+-------------------+---------------+---------------+------------------+-----------------------+\n",
      "|ocean_proximity|max(longitude)|max(latitude)|max(housing_median_age)|max(total_rooms)|max(total_bedrooms)|max(population)|max(households)|max(median_income)|max(median_house_value)|\n",
      "+---------------+--------------+-------------+-----------------------+----------------+-------------------+---------------+---------------+------------------+-----------------------+\n",
      "|         ISLAND|       -118.32|        33.43|                   52.0|          2359.0|              591.0|         1100.0|          431.0|            3.3906|               450000.0|\n",
      "|     NEAR OCEAN|       -116.97|        41.95|                   52.0|         30405.0|             4585.0|        12873.0|         4176.0|           15.0001|               500001.0|\n",
      "|       NEAR BAY|       -122.01|        38.34|                   52.0|         18634.0|             3226.0|         8276.0|         3589.0|           15.0001|               500001.0|\n",
      "|      <1H OCEAN|       -116.62|        41.88|                   52.0|         37937.0|             6445.0|        35682.0|         6082.0|           15.0001|               500001.0|\n",
      "|         INLAND|       -114.31|        41.95|                   52.0|         39320.0|             6210.0|        16305.0|         5358.0|           15.0001|               500001.0|\n",
      "+---------------+--------------+-------------+-----------------------+----------------+-------------------+---------------+---------------+------------------+-----------------------+\n",
      "\n"
     ]
    }
   ],
   "source": [
    "# Max by group \n",
    "df.groupBy('ocean_proximity').max().show()"
   ]
  },
  {
   "cell_type": "code",
   "execution_count": null,
   "metadata": {},
   "outputs": [],
   "source": [
    "# Max by group with select\n",
    "df \\\n",
    "    .select('ocean_proximity','housing_median_age','households', 'median_income', 'median_house_value') \\\n",
    "    .groupBy('ocean_proximity') \\\n",
    "    .max() \\\n",
    "    .show()"
   ]
  },
  {
   "cell_type": "code",
   "execution_count": 110,
   "metadata": {},
   "outputs": [
    {
     "name": "stdout",
     "output_type": "stream",
     "text": [
      "+---------------+--------------+-------------+-----------------------+----------------+-------------------+---------------+---------------+------------------+-----------------------+\n",
      "|ocean_proximity|min(longitude)|min(latitude)|min(housing_median_age)|min(total_rooms)|min(total_bedrooms)|min(population)|min(households)|min(median_income)|min(median_house_value)|\n",
      "+---------------+--------------+-------------+-----------------------+----------------+-------------------+---------------+---------------+------------------+-----------------------+\n",
      "|         ISLAND|       -118.48|        33.33|                   27.0|           716.0|              214.0|          341.0|          160.0|            2.1579|               287500.0|\n",
      "|     NEAR OCEAN|       -124.35|        32.54|                    2.0|            15.0|                3.0|            8.0|            3.0|             0.536|                22500.0|\n",
      "|       NEAR BAY|       -122.59|        37.35|                    2.0|             8.0|                1.0|            8.0|            1.0|            0.4999|                22500.0|\n",
      "|      <1H OCEAN|       -124.14|        32.61|                    2.0|            11.0|                5.0|            3.0|            4.0|            0.4999|                17500.0|\n",
      "|         INLAND|       -123.73|        32.64|                    1.0|             2.0|                2.0|            5.0|            2.0|            0.4999|                14999.0|\n",
      "+---------------+--------------+-------------+-----------------------+----------------+-------------------+---------------+---------------+------------------+-----------------------+\n",
      "\n"
     ]
    }
   ],
   "source": [
    "# Min by group \n",
    "df.groupBy('ocean_proximity').min().show()"
   ]
  },
  {
   "cell_type": "code",
   "execution_count": 111,
   "metadata": {},
   "outputs": [
    {
     "name": "stdout",
     "output_type": "stream",
     "text": [
      "+---------------+-----------------------+---------------+------------------+-----------------------+\n",
      "|ocean_proximity|max(housing_median_age)|max(households)|max(median_income)|max(median_house_value)|\n",
      "+---------------+-----------------------+---------------+------------------+-----------------------+\n",
      "|         ISLAND|                   52.0|          431.0|            3.3906|               450000.0|\n",
      "|     NEAR OCEAN|                   52.0|         4176.0|           15.0001|               500001.0|\n",
      "|       NEAR BAY|                   52.0|         3589.0|           15.0001|               500001.0|\n",
      "|      <1H OCEAN|                   52.0|         6082.0|           15.0001|               500001.0|\n",
      "|         INLAND|                   52.0|         5358.0|           15.0001|               500001.0|\n",
      "+---------------+-----------------------+---------------+------------------+-----------------------+\n",
      "\n"
     ]
    }
   ],
   "source": [
    "# Min by group with select\n",
    "df \\\n",
    "    .select('ocean_proximity','housing_median_age','households', 'median_income', 'median_house_value') \\\n",
    "    .groupBy('ocean_proximity') \\\n",
    "    .max() \\\n",
    "    .show()"
   ]
  },
  {
   "cell_type": "code",
   "execution_count": 112,
   "metadata": {},
   "outputs": [
    {
     "name": "stdout",
     "output_type": "stream",
     "text": [
      "+---------------+-----------------------+\n",
      "|ocean_proximity|sum(housing_median_age)|\n",
      "+---------------+-----------------------+\n",
      "|         ISLAND|                  212.0|\n",
      "|     NEAR OCEAN|                78005.0|\n",
      "|       NEAR BAY|                86402.0|\n",
      "|      <1H OCEAN|               267495.0|\n",
      "|         INLAND|               159005.0|\n",
      "+---------------+-----------------------+\n",
      "\n"
     ]
    }
   ],
   "source": [
    "#Aggregation\n",
    "df.groupBy('ocean_proximity').agg({'housing_median_age':'sum'}).show()"
   ]
  },
  {
   "cell_type": "code",
   "execution_count": 113,
   "metadata": {},
   "outputs": [
    {
     "name": "stdout",
     "output_type": "stream",
     "text": [
      "+---------------+-----------------------+\n",
      "|ocean_proximity|avg(housing_median_age)|\n",
      "+---------------+-----------------------+\n",
      "|         ISLAND|                   42.4|\n",
      "|     NEAR OCEAN|     29.347253574115875|\n",
      "|       NEAR BAY|      37.73013100436681|\n",
      "|      <1H OCEAN|     29.279225043782837|\n",
      "|         INLAND|      24.27186689055106|\n",
      "+---------------+-----------------------+\n",
      "\n"
     ]
    }
   ],
   "source": [
    "df.groupBy('ocean_proximity').agg({'housing_median_age':'avg'}).show()"
   ]
  },
  {
   "cell_type": "code",
   "execution_count": 114,
   "metadata": {},
   "outputs": [
    {
     "name": "stdout",
     "output_type": "stream",
     "text": [
      "+---------------+-------------------------+\n",
      "|ocean_proximity|count(housing_median_age)|\n",
      "+---------------+-------------------------+\n",
      "|         ISLAND|                        5|\n",
      "|     NEAR OCEAN|                     2658|\n",
      "|       NEAR BAY|                     2290|\n",
      "|      <1H OCEAN|                     9136|\n",
      "|         INLAND|                     6551|\n",
      "+---------------+-------------------------+\n",
      "\n"
     ]
    }
   ],
   "source": [
    "df.groupBy('ocean_proximity').agg({'housing_median_age':'count'}).show()"
   ]
  },
  {
   "cell_type": "code",
   "execution_count": 115,
   "metadata": {},
   "outputs": [
    {
     "name": "stdout",
     "output_type": "stream",
     "text": [
      "+---------------+-----------------------+\n",
      "|ocean_proximity|min(housing_median_age)|\n",
      "+---------------+-----------------------+\n",
      "|         ISLAND|                   27.0|\n",
      "|     NEAR OCEAN|                    2.0|\n",
      "|       NEAR BAY|                    2.0|\n",
      "|      <1H OCEAN|                    2.0|\n",
      "|         INLAND|                    1.0|\n",
      "+---------------+-----------------------+\n",
      "\n"
     ]
    }
   ],
   "source": [
    "df.groupBy('ocean_proximity').agg({'housing_median_age':'min'}).show()"
   ]
  },
  {
   "cell_type": "code",
   "execution_count": 116,
   "metadata": {},
   "outputs": [
    {
     "name": "stdout",
     "output_type": "stream",
     "text": [
      "+---------------+-----------------------+\n",
      "|ocean_proximity|max(housing_median_age)|\n",
      "+---------------+-----------------------+\n",
      "|         ISLAND|                   52.0|\n",
      "|     NEAR OCEAN|                   52.0|\n",
      "|       NEAR BAY|                   52.0|\n",
      "|      <1H OCEAN|                   52.0|\n",
      "|         INLAND|                   52.0|\n",
      "+---------------+-----------------------+\n",
      "\n"
     ]
    }
   ],
   "source": [
    "df.groupBy('ocean_proximity').agg({'housing_median_age':'max'}).show()"
   ]
  },
  {
   "cell_type": "code",
   "execution_count": 117,
   "metadata": {},
   "outputs": [
    {
     "name": "stdout",
     "output_type": "stream",
     "text": [
      "+---------------+-----------------------+------------------+\n",
      "|ocean_proximity|max(housing_median_age)|avg(median_income)|\n",
      "+---------------+-----------------------+------------------+\n",
      "|         ISLAND|                   52.0|2.7444200000000003|\n",
      "|     NEAR OCEAN|                   52.0| 4.005784800601957|\n",
      "|       NEAR BAY|                   52.0| 4.172884759825336|\n",
      "|      <1H OCEAN|                   52.0|4.2306819176882655|\n",
      "|         INLAND|                   52.0| 3.208996382231716|\n",
      "+---------------+-----------------------+------------------+\n",
      "\n"
     ]
    }
   ],
   "source": [
    "df.groupBy('ocean_proximity').agg({'housing_median_age':'max','median_income':'avg'}).show()"
   ]
  },
  {
   "cell_type": "markdown",
   "metadata": {},
   "source": [
    "# EJERCICIOS - BLOQUE 2)\n",
    "\n",
    "Contestar las siguientes preguntas\n",
    "\n",
    "1. Calcular el promedio de housing_median_age por ocean_proximity enseñando el valor mayor arriba, ¿donde hay casas viejas?\n",
    "1. Calcular el promedio de median_income por ocean_proximity enseñando el valor mayor arriba, ¿donde hay gente con más dinero viviendo?\n",
    "1. Calcular el precio médio de median_house_value por ocean_proximity enseñando el valor más caro arriba, ¿donde es más caro vivir?\n",
    "1. Calcular el promedio de total_rooms por ocean_proximity enseñando el valor mayor arriba, ¿donde hay casas con mas habitaciones?\n",
    "1. Calcular el population por ocean_proximity enseñando el valor mayor arriba, ¿donde hay más gente viviendo?\n",
    "1. Calcular la ratio [population / total_bedrooms] y a continuación el promedio de esta ratio por ocean_proximity enseñando el valor mayor arriba, ¿donde hay casas con más gente viviendo?\n"
   ]
  },
  {
   "cell_type": "code",
   "execution_count": 118,
   "metadata": {},
   "outputs": [
    {
     "data": {
      "text/plain": [
       "['longitude',\n",
       " 'latitude',\n",
       " 'housing_median_age',\n",
       " 'total_rooms',\n",
       " 'total_bedrooms',\n",
       " 'population',\n",
       " 'households',\n",
       " 'median_income',\n",
       " 'median_house_value',\n",
       " 'ocean_proximity']"
      ]
     },
     "execution_count": 118,
     "metadata": {},
     "output_type": "execute_result"
    }
   ],
   "source": [
    "df.columns"
   ]
  },
  {
   "cell_type": "markdown",
   "metadata": {},
   "source": [
    "\n"
   ]
  },
  {
   "cell_type": "code",
   "execution_count": null,
   "metadata": {},
   "outputs": [],
   "source": [
    "# 1\n",
    "query = df.select(\"ocean_proximity\", \"housing_median_age\")\\\n",
    "      .groupBy(\"ocean_proximity\")\\\n",
    "      .mean()\\\n",
    "      .orderBy(\"avg(housing_median_age)\", ascending=False)\n",
    "query.show()\n",
    "result = query.head()\n",
    "\n",
    "\n",
    "\n",
    "print(\"Las casas más viejas de media ({}) están en: {}\".format(result[1], result[0]))"
   ]
  },
  {
   "cell_type": "code",
   "execution_count": null,
   "metadata": {},
   "outputs": [],
   "source": [
    "result[1][0]"
   ]
  },
  {
   "cell_type": "code",
   "execution_count": null,
   "metadata": {},
   "outputs": [],
   "source": [
    "# 2\n",
    "df.groupBy('ocean_proximity').agg({'median_income':'avg'}).orderBy('avg(median_income)',ascending=False).show()\n"
   ]
  },
  {
   "cell_type": "code",
   "execution_count": null,
   "metadata": {},
   "outputs": [],
   "source": [
    "# 3 \n",
    "df.groupBy('ocean_proximity').agg({'median_house_value':'avg'}).orderBy('avg(median_house_value)',ascending=False).show()"
   ]
  },
  {
   "cell_type": "code",
   "execution_count": null,
   "metadata": {},
   "outputs": [],
   "source": [
    "# 4\n",
    "df.groupBy('ocean_proximity').agg({'total_rooms':'avg'}).sort('avg(total_rooms)', ascending=False).show()"
   ]
  },
  {
   "cell_type": "code",
   "execution_count": null,
   "metadata": {},
   "outputs": [],
   "source": [
    "# 5\n",
    "df.groupBy('ocean_proximity').agg({'population':'avg'}).orderBy('avg(population)',ascending=False).show()"
   ]
  },
  {
   "cell_type": "code",
   "execution_count": null,
   "metadata": {},
   "outputs": [],
   "source": [
    "from pyspark.sql.functions import col\n",
    "\n",
    "\n",
    "query = df.select(\"ocean_proximity\", \"population\", \"total_bedrooms\")\\\n",
    "  .withColumn(\"ratio\", col(\"population\")/col(\"total_bedrooms\"))\\\n",
    "  .groupBy(\"ocean_proximity\")\\\n",
    "  .mean(\"ratio\")\\\n",
    "  .orderBy(\"avg(ratio)\", ascending = False)\n",
    "\n",
    "query.show()\n",
    "\n",
    "result = query.head()\n",
    "\n",
    "print(\"Hay más gente por habitación ({} de ratio) en: {}\".format(round(result[1],4), result[0]))"
   ]
  },
  {
   "cell_type": "code",
   "execution_count": null,
   "metadata": {},
   "outputs": [],
   "source": []
  }
 ],
 "metadata": {
  "kernelspec": {
   "display_name": "Python 3 (ipykernel)",
   "language": "python",
   "name": "python3"
  },
  "language_info": {
   "codemirror_mode": {
    "name": "ipython",
    "version": 3
   },
   "file_extension": ".py",
   "mimetype": "text/x-python",
   "name": "python",
   "nbconvert_exporter": "python",
   "pygments_lexer": "ipython3",
   "version": "3.9.16"
  }
 },
 "nbformat": 4,
 "nbformat_minor": 2
}
