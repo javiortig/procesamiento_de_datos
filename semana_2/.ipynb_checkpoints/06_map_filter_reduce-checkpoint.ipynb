{
 "cells": [
  {
   "cell_type": "markdown",
   "metadata": {},
   "source": [
    "Author: Prof. Manoel Gadi\n",
    "\n",
    "Contact: mfalonso@faculty.ie.edu\n",
    "\n",
    "Teaching Web: http://mfalonso.pythonanywhere.com\n",
    "\n",
    "Last revision: 5/February/2021\n",
    "\n",
    "# Map, Filter and Reduce in Basic Python\n",
    "\n",
    "please watch this two videos to understand how they can be applied via map, filter and reduce functions:\n",
    " \n",
    "Lambda expression : https://www.youtube.com/watch?v=25ovCm9jKfA\n",
    "\n",
    "Map, Filter, and Reduce Functions to an array in Ptyhon: https://www.youtube.com/watch?v=hUes6y2b--0\n",
    "\n",
    "Let's have a look at this SQL example:\n",
    "\n",
    "SQL: Select sum(x*2) from mytable_withintegers_from_negative100_to_100 where x > 0;\n",
    "\n",
    "Now let's see the same example USING LAMBDA, MAP, REDUCE and FILTER:\n"
   ]
  },
  {
   "cell_type": "code",
   "execution_count": 1,
   "metadata": {},
   "outputs": [
    {
     "data": {
      "text/plain": [
       "9900"
      ]
     },
     "execution_count": 1,
     "metadata": {},
     "output_type": "execute_result"
    }
   ],
   "source": [
    "from functools import reduce\n",
    "reduce(lambda x,y: x+y,map(lambda x: x*2,filter(lambda x: x>0, list(range(-100,100)))))"
   ]
  },
  {
   "cell_type": "markdown",
   "metadata": {},
   "source": [
    "__QUESTION 1)__ \n",
    "* USING filter, create a sequence of the first 10,000 numbers which it square is divisible by 3 (from 0 to 9999).\n",
    "* THEN using map, divide those numbers by 3 and subtract - 4\n",
    "* FINALLY using reduce, aggregate all numbers by calculating the average of the numbers. Remember to import reduce from functools\n",
    "* Your final result should be: 3328.0"
   ]
  },
  {
   "cell_type": "code",
   "execution_count": null,
   "metadata": {},
   "outputs": [],
   "source": []
  },
  {
   "cell_type": "markdown",
   "metadata": {},
   "source": [
    "__QUESTION 2)__ \n",
    "* Create a random sample of 100 numbers between 0 and a 1000 and keep the values that are lower than the mean.\n",
    "* Then use map to get the square root...\n",
    "* Finally use reduce to add up every value in the list."
   ]
  },
  {
   "cell_type": "code",
   "execution_count": null,
   "metadata": {},
   "outputs": [],
   "source": []
  },
  {
   "cell_type": "markdown",
   "metadata": {},
   "source": [
    "__QUESTION 3)__\n",
    "* USING filter, create a sequence of the first 1,000 numbers which are even.\n",
    "* THEN using map, multiply those numbers by 5 and subtract - 2\n",
    "* FINALLY using reduce, aggregate all numbers by calculating the square rooot of the numbers.\n",
    "* Result should be 71.127 ( rounded at 3 decimal positions)"
   ]
  },
  {
   "cell_type": "code",
   "execution_count": null,
   "metadata": {},
   "outputs": [],
   "source": []
  },
  {
   "cell_type": "markdown",
   "metadata": {},
   "source": [
    "__QUESTION 4)__\n",
    "* FIRST using filter: extract odd numbers from a sequence of numbers from 1 to 1000 in steps of 3\n",
    "* THEN using map: calculate the square of those numbers\n",
    "* FINALLY using reduce: sum those numbers\n",
    "* The result should be 55555055"
   ]
  },
  {
   "cell_type": "code",
   "execution_count": null,
   "metadata": {},
   "outputs": [],
   "source": []
  },
  {
   "cell_type": "markdown",
   "metadata": {},
   "source": [
    "__QUESTION 5)__\n",
    "* Using filter, create a sequence of odd numbers numbers up until 10\n",
    "* Using map, get the square root of these numbers and add 3\n",
    "* Using reduce, calculate the multiply all these numbers\n",
    "* The result should be 3357.28075449474"
   ]
  },
  {
   "cell_type": "code",
   "execution_count": null,
   "metadata": {},
   "outputs": [],
   "source": []
  },
  {
   "cell_type": "markdown",
   "metadata": {},
   "source": [
    "---"
   ]
  },
  {
   "cell_type": "markdown",
   "metadata": {},
   "source": [
    "__SOLUTION QUESTION 1)__"
   ]
  },
  {
   "cell_type": "code",
   "execution_count": 3,
   "metadata": {},
   "outputs": [
    {
     "name": "stdout",
     "output_type": "stream",
     "text": [
      "3328.0\n"
     ]
    }
   ],
   "source": [
    "#USING filter, create a sequence of the first 10,000 numbers which it square is divisible by 3 (from 0 to 9999).\n",
    "results_iterator1 = filter(lambda x: x**2 % 3 == 0,range(10000))\n",
    "\n",
    "#THEN using map, divide those numbers by 3 and subtract - 4\n",
    "results_iterator2 = map(lambda x: x/3-4,results_iterator1)\n",
    "\n",
    "#FINALLY using reduce, aggregate all numbers by calculating the average of the numbers. Remember to import reduce from functools\n",
    "from functools import reduce\n",
    "print(reduce(lambda x, y: (x + y)/2, results_iterator2))    \n"
   ]
  },
  {
   "cell_type": "markdown",
   "metadata": {},
   "source": [
    "__SOLUTION QUESTION 2)__"
   ]
  },
  {
   "cell_type": "code",
   "execution_count": 9,
   "metadata": {},
   "outputs": [
    {
     "name": "stdout",
     "output_type": "stream",
     "text": [
      "715.3006108458746\n",
      "715.3006108458746\n"
     ]
    }
   ],
   "source": [
    "import random\n",
    "import  numpy as np\n",
    "data = random.sample(range(0, 1001), 100)\n",
    "rs1 = list(filter(lambda x: x < np.mean(data),data));\n",
    "\n",
    "import math\n",
    "rs2 = list(map(lambda x: math.sqrt(x),rs1))\n",
    "\n",
    "from functools import reduce\n",
    "print(reduce(lambda x,y: x + y, rs2))  \n",
    "\n",
    "#same as doing a for loop...\n",
    "x = 0\n",
    "for i in rs2:    \n",
    "    x = x + i\n",
    "print(x)\n"
   ]
  },
  {
   "cell_type": "markdown",
   "metadata": {},
   "source": [
    "__SOLUTION QUESTION 3)__"
   ]
  },
  {
   "cell_type": "code",
   "execution_count": null,
   "metadata": {},
   "outputs": [],
   "source": [
    "results_iterator1 = filter(lambda x: x % 2 == 0,range(1000))\n",
    "results_iterator2 = map(lambda x: x*5-2,results_iterator1)\n",
    "from functools import reduce\n",
    "import math\n",
    "print(round(reduce(lambda x, y: math.sqrt(x + y), results_iterator2),3))\n",
    "\n"
   ]
  },
  {
   "cell_type": "markdown",
   "metadata": {},
   "source": [
    "__SOLUTION QUESTION 4)__"
   ]
  },
  {
   "cell_type": "code",
   "execution_count": 17,
   "metadata": {},
   "outputs": [
    {
     "name": "stdout",
     "output_type": "stream",
     "text": [
      "55555055\n"
     ]
    }
   ],
   "source": [
    "\n",
    "# using filter: extract odd numbers from a sequence of numbers from 1 to 1000 in steps of 3\n",
    "odds = filter(lambda x: x % 2 or x==1, range(1,1000,3))\n",
    "#  using map: calculate the square of those numbers\n",
    "odds_power_2 = map(lambda x: x*x,odds)\n",
    "# using reduce: sum those numbers   \n",
    "from functools import reduce\n",
    "print(reduce(lambda x, y: (x + y), odds_power_2)) "
   ]
  },
  {
   "cell_type": "markdown",
   "metadata": {},
   "source": [
    "__SOLUTION QUESTION 5)__"
   ]
  },
  {
   "cell_type": "code",
   "execution_count": 18,
   "metadata": {},
   "outputs": [
    {
     "name": "stdout",
     "output_type": "stream",
     "text": [
      "3357.28075449474\n"
     ]
    }
   ],
   "source": [
    "from functools import reduce\n",
    "\n",
    "from math import sqrt\n",
    "\n",
    "#create a sequence of numbers from 1-500 where results are odd\n",
    "nums = filter(lambda x: x % 2 != 0,range(10))\n",
    "\n",
    " \n",
    "#using map get the square root of these numbers and add 3\n",
    "map_nums = map(lambda x: sqrt(x) + 3,nums)\n",
    "\n",
    "\n",
    "#using reduce multiply all numbers\n",
    "print(reduce(lambda x, y: (x*y), map_nums))   "
   ]
  },
  {
   "cell_type": "code",
   "execution_count": null,
   "metadata": {},
   "outputs": [],
   "source": []
  }
 ],
 "metadata": {
  "kernelspec": {
   "display_name": "Python 3 (ipykernel)",
   "language": "python",
   "name": "python3"
  },
  "language_info": {
   "codemirror_mode": {
    "name": "ipython",
    "version": 3
   },
   "file_extension": ".py",
   "mimetype": "text/x-python",
   "name": "python",
   "nbconvert_exporter": "python",
   "pygments_lexer": "ipython3",
   "version": "3.10.8"
  }
 },
 "nbformat": 4,
 "nbformat_minor": 2
}
