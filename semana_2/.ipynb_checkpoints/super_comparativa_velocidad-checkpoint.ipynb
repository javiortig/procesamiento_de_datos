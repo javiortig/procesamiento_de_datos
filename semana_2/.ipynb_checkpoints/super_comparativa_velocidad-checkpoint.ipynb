{
 "cells": [
  {
   "cell_type": "markdown",
   "metadata": {},
   "source": [
    "# EN SPARK - RDD"
   ]
  },
  {
   "cell_type": "code",
   "execution_count": 21,
   "metadata": {},
   "outputs": [],
   "source": [
    "import time\n",
    "import numpy as np\n",
    "N_point  = 400000\n",
    "\n",
    "lst_x = np.random.randn(N_point)\n",
    "lst_y = np.random.randn(N_point)\n",
    "\n"
   ]
  },
  {
   "cell_type": "code",
   "execution_count": 22,
   "metadata": {},
   "outputs": [
    {
     "name": "stdout",
     "output_type": "stream",
     "text": [
      "\n",
      "Time taken by the plain vanilla for-loop\n",
      "----------------------------------------------\n",
      "0.4478006362915039 seconds\n"
     ]
    }
   ],
   "source": [
    "t1=time.time()\n",
    "\n",
    "from math import sin\n",
    "\n",
    "lst_results = []\n",
    "for i in range(N_point):\n",
    "    x = lst_x[i]\n",
    "    y = lst_y[i]\n",
    "    if (x>0.5 and y<0.3):\n",
    "        lst_results.append(sin(x-y))\n",
    "    elif (x>0.5*y):\n",
    "        lst_results.append(0)\n",
    "    elif (x>0.2*y):\n",
    "        lst_results.append(2*sin(x+2*y))\n",
    "    else:\n",
    "        lst_results.append(sin(x+y))\n",
    "\n",
    "t2=time.time()\n",
    "print(\"\\nTime taken by the plain vanilla for-loop\\n----------------------------------------------\\n{} seconds\".format((t2-t1)))"
   ]
  },
  {
   "cell_type": "code",
   "execution_count": 23,
   "metadata": {},
   "outputs": [],
   "source": [
    "def myfunc(x,y):    \n",
    "    if (x>0.5 and y<0.3):\n",
    "        return(sin(x-y))\n",
    "    elif (x>0.5*y):\n",
    "        return(0)\n",
    "    elif (x>0.2*y):\n",
    "        return(2*sin(x+2*y))\n",
    "    else:\n",
    "        return(sin(x+y))"
   ]
  },
  {
   "cell_type": "code",
   "execution_count": 24,
   "metadata": {},
   "outputs": [
    {
     "name": "stdout",
     "output_type": "stream",
     "text": [
      "\n",
      "Time taken by the list comprehension\n",
      "----------------------------------------------\n",
      "0.34906506538391113 seconds\n"
     ]
    }
   ],
   "source": [
    "t1=time.time()\n",
    "[myfunc(x,y) for x,y in zip(lst_x,lst_y)] \n",
    "t2=time.time()\n",
    "print(\"\\nTime taken by the list comprehension\\n----------------------------------------------\\n{} seconds\".format((t2-t1)))"
   ]
  },
  {
   "cell_type": "code",
   "execution_count": 25,
   "metadata": {},
   "outputs": [
    {
     "name": "stdout",
     "output_type": "stream",
     "text": [
      "\n",
      "Time taken by the map function\n",
      "----------------------------------------------\n",
      " 0.3141653537750244 seconds\n"
     ]
    }
   ],
   "source": [
    "t1=time.time()\n",
    "list(map(myfunc,lst_x,lst_y))\n",
    "t2=time.time()\n",
    "print(\"\\nTime taken by the map function\\n----------------------------------------------\\n {} seconds\".format((t2-t1)))"
   ]
  },
  {
   "cell_type": "code",
   "execution_count": 26,
   "metadata": {},
   "outputs": [],
   "source": [
    "import numpy as np"
   ]
  },
  {
   "cell_type": "code",
   "execution_count": 27,
   "metadata": {},
   "outputs": [
    {
     "name": "stdout",
     "output_type": "stream",
     "text": [
      "\n",
      "Time taken by the numpy.vectorize\n",
      "----------------------------------------------\n",
      " 0.16259169578552246 seconds\n"
     ]
    }
   ],
   "source": [
    "t1=time.time()\n",
    "np.vectorize(myfunc)(lst_x,lst_y)\n",
    "t2=time.time()\n",
    "print(\"\\nTime taken by the numpy.vectorize\\n----------------------------------------------\\n {} seconds\".format((t2-t1)))\n",
    "\n"
   ]
  },
  {
   "cell_type": "markdown",
   "metadata": {},
   "source": [
    "---"
   ]
  },
  {
   "cell_type": "markdown",
   "metadata": {},
   "source": [
    "# DATAFRAME de PYTHON - DATAFRAMES de SPARK"
   ]
  },
  {
   "cell_type": "code",
   "execution_count": 1,
   "metadata": {},
   "outputs": [],
   "source": [
    "import pandas as pd\n",
    "import numpy as np\n",
    "\n",
    "df = pd.DataFrame({'Clientes':['Pedro','Joaquin','Jose','Joanito'],\n",
    "                  'Gastos':[10.5,3.6,7.4,8.3]})"
   ]
  },
  {
   "cell_type": "code",
   "execution_count": 2,
   "metadata": {},
   "outputs": [
    {
     "data": {
      "text/html": [
       "<div>\n",
       "<style scoped>\n",
       "    .dataframe tbody tr th:only-of-type {\n",
       "        vertical-align: middle;\n",
       "    }\n",
       "\n",
       "    .dataframe tbody tr th {\n",
       "        vertical-align: top;\n",
       "    }\n",
       "\n",
       "    .dataframe thead th {\n",
       "        text-align: right;\n",
       "    }\n",
       "</style>\n",
       "<table border=\"1\" class=\"dataframe\">\n",
       "  <thead>\n",
       "    <tr style=\"text-align: right;\">\n",
       "      <th></th>\n",
       "      <th>Clientes</th>\n",
       "      <th>Gastos</th>\n",
       "    </tr>\n",
       "  </thead>\n",
       "  <tbody>\n",
       "    <tr>\n",
       "      <th>0</th>\n",
       "      <td>Pedro</td>\n",
       "      <td>10.5</td>\n",
       "    </tr>\n",
       "    <tr>\n",
       "      <th>1</th>\n",
       "      <td>Joaquin</td>\n",
       "      <td>3.6</td>\n",
       "    </tr>\n",
       "    <tr>\n",
       "      <th>2</th>\n",
       "      <td>Jose</td>\n",
       "      <td>7.4</td>\n",
       "    </tr>\n",
       "    <tr>\n",
       "      <th>3</th>\n",
       "      <td>Joanito</td>\n",
       "      <td>8.3</td>\n",
       "    </tr>\n",
       "  </tbody>\n",
       "</table>\n",
       "</div>"
      ],
      "text/plain": [
       "  Clientes  Gastos\n",
       "0    Pedro    10.5\n",
       "1  Joaquin     3.6\n",
       "2     Jose     7.4\n",
       "3  Joanito     8.3"
      ]
     },
     "execution_count": 2,
     "metadata": {},
     "output_type": "execute_result"
    }
   ],
   "source": [
    "df"
   ]
  },
  {
   "cell_type": "code",
   "execution_count": 5,
   "metadata": {},
   "outputs": [],
   "source": [
    "df2= pd.concat([df]*100000).reset_index(drop=True)"
   ]
  },
  {
   "cell_type": "code",
   "execution_count": 6,
   "metadata": {},
   "outputs": [
    {
     "data": {
      "text/html": [
       "<div>\n",
       "<style scoped>\n",
       "    .dataframe tbody tr th:only-of-type {\n",
       "        vertical-align: middle;\n",
       "    }\n",
       "\n",
       "    .dataframe tbody tr th {\n",
       "        vertical-align: top;\n",
       "    }\n",
       "\n",
       "    .dataframe thead th {\n",
       "        text-align: right;\n",
       "    }\n",
       "</style>\n",
       "<table border=\"1\" class=\"dataframe\">\n",
       "  <thead>\n",
       "    <tr style=\"text-align: right;\">\n",
       "      <th></th>\n",
       "      <th>Clientes</th>\n",
       "      <th>Gastos</th>\n",
       "    </tr>\n",
       "  </thead>\n",
       "  <tbody>\n",
       "    <tr>\n",
       "      <th>0</th>\n",
       "      <td>Pedro</td>\n",
       "      <td>10.5</td>\n",
       "    </tr>\n",
       "    <tr>\n",
       "      <th>1</th>\n",
       "      <td>Joaquin</td>\n",
       "      <td>3.6</td>\n",
       "    </tr>\n",
       "    <tr>\n",
       "      <th>2</th>\n",
       "      <td>Jose</td>\n",
       "      <td>7.4</td>\n",
       "    </tr>\n",
       "    <tr>\n",
       "      <th>3</th>\n",
       "      <td>Joanito</td>\n",
       "      <td>8.3</td>\n",
       "    </tr>\n",
       "    <tr>\n",
       "      <th>4</th>\n",
       "      <td>Pedro</td>\n",
       "      <td>10.5</td>\n",
       "    </tr>\n",
       "    <tr>\n",
       "      <th>...</th>\n",
       "      <td>...</td>\n",
       "      <td>...</td>\n",
       "    </tr>\n",
       "    <tr>\n",
       "      <th>399995</th>\n",
       "      <td>Joanito</td>\n",
       "      <td>8.3</td>\n",
       "    </tr>\n",
       "    <tr>\n",
       "      <th>399996</th>\n",
       "      <td>Pedro</td>\n",
       "      <td>10.5</td>\n",
       "    </tr>\n",
       "    <tr>\n",
       "      <th>399997</th>\n",
       "      <td>Joaquin</td>\n",
       "      <td>3.6</td>\n",
       "    </tr>\n",
       "    <tr>\n",
       "      <th>399998</th>\n",
       "      <td>Jose</td>\n",
       "      <td>7.4</td>\n",
       "    </tr>\n",
       "    <tr>\n",
       "      <th>399999</th>\n",
       "      <td>Joanito</td>\n",
       "      <td>8.3</td>\n",
       "    </tr>\n",
       "  </tbody>\n",
       "</table>\n",
       "<p>400000 rows × 2 columns</p>\n",
       "</div>"
      ],
      "text/plain": [
       "       Clientes  Gastos\n",
       "0         Pedro    10.5\n",
       "1       Joaquin     3.6\n",
       "2          Jose     7.4\n",
       "3       Joanito     8.3\n",
       "4         Pedro    10.5\n",
       "...         ...     ...\n",
       "399995  Joanito     8.3\n",
       "399996    Pedro    10.5\n",
       "399997  Joaquin     3.6\n",
       "399998     Jose     7.4\n",
       "399999  Joanito     8.3\n",
       "\n",
       "[400000 rows x 2 columns]"
      ]
     },
     "execution_count": 6,
     "metadata": {},
     "output_type": "execute_result"
    }
   ],
   "source": [
    "df2"
   ]
  },
  {
   "cell_type": "code",
   "execution_count": null,
   "metadata": {},
   "outputs": [],
   "source": [
    "if gastos> 100:\n",
    "    'A'\n",
    "else:\n",
    "    'B'"
   ]
  },
  {
   "cell_type": "code",
   "execution_count": 10,
   "metadata": {},
   "outputs": [
    {
     "data": {
      "text/plain": [
       "7.449999999991988"
      ]
     },
     "execution_count": 10,
     "metadata": {},
     "output_type": "execute_result"
    }
   ],
   "source": [
    "df2['Gastos'].mean()"
   ]
  },
  {
   "cell_type": "code",
   "execution_count": 13,
   "metadata": {},
   "outputs": [
    {
     "name": "stdout",
     "output_type": "stream",
     "text": [
      "\n",
      "Time taken by the df.apply\n",
      "----------------------------------------------\n",
      " 0.06781840324401855 seconds\n"
     ]
    }
   ],
   "source": [
    "import time\n",
    "t1=time.time()\n",
    "df2['Gastos'].apply(lambda gastos: 'A' if gastos > 8.5 else 'B')\n",
    "t2=time.time()\n",
    "print(\"\\nTime taken by the df.apply\\n----------------------------------------------\\n {} seconds\".format((t2-t1)))"
   ]
  },
  {
   "cell_type": "code",
   "execution_count": 28,
   "metadata": {},
   "outputs": [
    {
     "name": "stdout",
     "output_type": "stream",
     "text": [
      "\n",
      "Time taken by the df.apply\n",
      "----------------------------------------------\n",
      " 0.08178162574768066 seconds\n"
     ]
    }
   ],
   "source": [
    "t1=time.time()\n",
    "np.vectorize(lambda gastos: 'A' if gastos > 8.5 else 'B')(df2['Gastos'])\n",
    "t2=time.time()\n",
    "print(\"\\nTime taken by the df.apply\\n----------------------------------------------\\n {} seconds\".format((t2-t1)))"
   ]
  },
  {
   "cell_type": "code",
   "execution_count": null,
   "metadata": {},
   "outputs": [],
   "source": []
  }
 ],
 "metadata": {
  "kernelspec": {
   "display_name": "Python 3 (ipykernel)",
   "language": "python",
   "name": "python3"
  },
  "language_info": {
   "codemirror_mode": {
    "name": "ipython",
    "version": 3
   },
   "file_extension": ".py",
   "mimetype": "text/x-python",
   "name": "python",
   "nbconvert_exporter": "python",
   "pygments_lexer": "ipython3",
   "version": "3.10.8"
  }
 },
 "nbformat": 4,
 "nbformat_minor": 4
}
