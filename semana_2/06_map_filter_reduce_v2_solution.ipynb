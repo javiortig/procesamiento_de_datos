{
  "cells": [
    {
      "cell_type": "markdown",
      "metadata": {
        "id": "-u-lnE63ZxWz"
      },
      "source": [
        "Author: Prof. Manoel Gadi\n",
        "\n",
        "Contact: mfalonso@faculty.ie.edu\n",
        "\n",
        "Teaching Web: http://mfalonso.pythonanywhere.com\n",
        "\n",
        "Last revision: 5/February/2021\n",
        "\n",
        "# Map, Filter and Reduce in Basic Python\n",
        "\n",
        "please watch this two videos to understand how they can be applied via map, filter and reduce functions:\n",
        " \n",
        "Lambda expression : https://www.youtube.com/watch?v=25ovCm9jKfA\n",
        "\n",
        "Map, Filter, and Reduce Functions to an array in Ptyhon: https://www.youtube.com/watch?v=hUes6y2b--0\n",
        "\n",
        "Let's have a look at this SQL example:\n",
        "\n",
        "SQL: Select sum(x*2) from mytable_withintegers_from_negative100_to_100 where x > 0;\n",
        "\n",
        "Now let's see the same example USING LAMBDA, MAP, REDUCE and FILTER:\n"
      ]
    },
    {
      "cell_type": "code",
      "execution_count": null,
      "metadata": {
        "id": "ES7LvBLjZxW1",
        "outputId": "617e7956-48b6-4d8f-df47-675943a943a0"
      },
      "outputs": [
        {
          "data": {
            "text/plain": [
              "9900"
            ]
          },
          "execution_count": 1,
          "metadata": {},
          "output_type": "execute_result"
        }
      ],
      "source": [
        "from functools import reduce\n",
        "reduce(lambda x,y: x+y,map(lambda x: x*2,filter(lambda x: x>0, list(range(-100,100)))))"
      ]
    },
    {
      "cell_type": "markdown",
      "metadata": {
        "id": "aojwG0DGZxW2"
      },
      "source": [
        "__QUESTION 1)__ \n",
        "* USING filter, create a sequence of the first 10,000 numbers which it square is divisible by 3 (from 0 to 9999).\n",
        "* THEN using map, divide those numbers by 3 and subtract - 4\n",
        "* FINALLY using reduce, aggregate all numbers by calculating the average of the numbers. Remember to import reduce from functools\n",
        "* Your final result should be: 1662.5"
      ]
    },
    {
      "cell_type": "code",
      "execution_count": null,
      "metadata": {
        "id": "wCMvBPpQZxW2"
      },
      "outputs": [],
      "source": []
    },
    {
      "cell_type": "markdown",
      "metadata": {
        "id": "pS7T0pVkZxW2"
      },
      "source": [
        "__QUESTION 2)__ \n",
        "* Create a random sample of 100 numbers between 0 and a 1000 and keep the values that are lower than the mean.\n",
        "* Then use map to get the square root...\n",
        "* Finally use reduce to add up every value in the list."
      ]
    },
    {
      "cell_type": "code",
      "execution_count": null,
      "metadata": {
        "id": "CCkHFVwpZxW2"
      },
      "outputs": [],
      "source": []
    },
    {
      "cell_type": "markdown",
      "metadata": {
        "id": "igdyPK1-ZxW3"
      },
      "source": [
        "__QUESTION 3)__\n",
        "* USING filter, create a sequence of the first 1,000 numbers which are even.\n",
        "* THEN using map, multiply those numbers by 5 and subtract - 2\n",
        "* FINALLY using reduce, aggregate all numbers by calculating the square rooot of the numbers.\n",
        "* Result should be 71.127 ( rounded at 3 decimal positions)"
      ]
    },
    {
      "cell_type": "code",
      "execution_count": null,
      "metadata": {
        "id": "_u0xGJd2ZxW3"
      },
      "outputs": [],
      "source": []
    },
    {
      "cell_type": "markdown",
      "metadata": {
        "id": "q5XNQmDAZxW3"
      },
      "source": [
        "__QUESTION 4)__\n",
        "* FIRST using filter: extract odd numbers from a sequence of numbers from 1 to 1000 in steps of 3\n",
        "* THEN using map: calculate the square of those numbers\n",
        "* FINALLY using reduce: sum those numbers\n",
        "* The result should be 55555055"
      ]
    },
    {
      "cell_type": "code",
      "execution_count": null,
      "metadata": {
        "id": "mNgfz-uOZxW3"
      },
      "outputs": [],
      "source": []
    },
    {
      "cell_type": "markdown",
      "metadata": {
        "id": "UER3XzMpZxW3"
      },
      "source": [
        "__QUESTION 5)__\n",
        "* Using filter, create a sequence of odd numbers numbers up until 10\n",
        "* Using map, get the square root of these numbers and add 3\n",
        "* Using reduce, calculate the multiply all these numbers\n",
        "* The result should be 3357.28075449474"
      ]
    },
    {
      "cell_type": "code",
      "execution_count": null,
      "metadata": {
        "id": "6V8u5FCLZxW3"
      },
      "outputs": [],
      "source": []
    },
    {
      "cell_type": "markdown",
      "metadata": {
        "id": "8DVosP1nZxW4"
      },
      "source": [
        "---"
      ]
    },
    {
      "cell_type": "markdown",
      "metadata": {
        "id": "W8vifhjqZxW4"
      },
      "source": [
        "__SOLUTION QUESTION 1)__"
      ]
    },
    {
      "cell_type": "code",
      "source": [
        "#USING filter, create a sequence of the first 10,000 numbers which it square is divisible by 3 (from 0 to 9999).\n",
        "results_iterator1 = filter(lambda x: x**2 % 3 == 0,range(10000))\n",
        "\n",
        "print(len(list(results_iterator1)))"
      ],
      "metadata": {
        "colab": {
          "base_uri": "https://localhost:8080/"
        },
        "id": "ibPk_zrZbrsD",
        "outputId": "85a5b6cb-d623-44de-ea97-0954cf78fd91"
      },
      "execution_count": 13,
      "outputs": [
        {
          "output_type": "stream",
          "name": "stdout",
          "text": [
            "3334\n"
          ]
        }
      ]
    },
    {
      "cell_type": "code",
      "execution_count": 14,
      "metadata": {
        "colab": {
          "base_uri": "https://localhost:8080/"
        },
        "id": "1H7UfwHjZxW4",
        "outputId": "2611c3ce-fb65-4353-be52-2f55c3c13941"
      },
      "outputs": [
        {
          "output_type": "stream",
          "name": "stdout",
          "text": [
            "1662.5\n"
          ]
        }
      ],
      "source": [
        "#USING filter, create a sequence of the first 10,000 numbers which it square is divisible by 3 (from 0 to 9999).\n",
        "results_iterator1 = filter(lambda x: x**2 % 3 == 0,range(10000))\n",
        "\n",
        "#THEN using map, divide those numbers by 3 and subtract - 4\n",
        "results_iterator2 = map(lambda x: x/3-4,results_iterator1)\n",
        "\n",
        "#FINALLY using reduce, aggregate all numbers by calculating the average of the numbers. Remember to import reduce from functools\n",
        "from functools import reduce\n",
        "print(reduce(lambda x, y: (x + y), results_iterator2)/3334)    \n"
      ]
    },
    {
      "cell_type": "markdown",
      "metadata": {
        "id": "_F3Mtwz-ZxW4"
      },
      "source": [
        "__SOLUTION QUESTION 2)__"
      ]
    },
    {
      "cell_type": "code",
      "execution_count": null,
      "metadata": {
        "id": "u1i60IVsZxW4",
        "outputId": "06fd5091-ac86-4d70-aff6-be90962763c8"
      },
      "outputs": [
        {
          "name": "stdout",
          "output_type": "stream",
          "text": [
            "805.1471305052929\n",
            "805.1471305052929\n"
          ]
        }
      ],
      "source": [
        "import random\n",
        "import  numpy as np\n",
        "data = random.sample(range(0, 1001), 100)\n",
        "rs1 = list(filter(lambda x: x < np.mean(data),data));\n",
        "\n",
        "import math\n",
        "rs2 = list(map(lambda x: math.sqrt(x),rs1))\n",
        "\n",
        "from functools import reduce\n",
        "print(reduce(lambda x,y: x + y, rs2))  \n",
        "\n",
        "#same as doing a for loop...\n",
        "x = 0\n",
        "for i in rs2:    \n",
        "    x = x + i\n",
        "print(x)\n"
      ]
    },
    {
      "cell_type": "markdown",
      "metadata": {
        "id": "kGmk-vZ8ZxW5"
      },
      "source": [
        "__SOLUTION QUESTION 3)__"
      ]
    },
    {
      "cell_type": "code",
      "execution_count": 17,
      "metadata": {
        "colab": {
          "base_uri": "https://localhost:8080/"
        },
        "id": "TJq7qHMnZxW5",
        "outputId": "c483afd6-3304-47c3-ac23-9559283e5ce8"
      },
      "outputs": [
        {
          "output_type": "stream",
          "name": "stdout",
          "text": [
            "1116.468\n"
          ]
        }
      ],
      "source": [
        "results_iterator1 = filter(lambda x: x % 2 == 0,range(1000))\n",
        "results_iterator2 = map(lambda x: x*5-2,results_iterator1)\n",
        "from functools import reduce\n",
        "import math\n",
        "print(round(math.sqrt(reduce(lambda x, y: x + y, results_iterator2)),3))\n",
        "\n"
      ]
    },
    {
      "cell_type": "markdown",
      "metadata": {
        "id": "INvvHgvuZxW5"
      },
      "source": [
        "__SOLUTION QUESTION 4)__"
      ]
    },
    {
      "cell_type": "code",
      "execution_count": null,
      "metadata": {
        "id": "FWu88-KsZxW5",
        "outputId": "6096fc26-ed7d-402b-9fc9-157436b6c2c5"
      },
      "outputs": [
        {
          "name": "stdout",
          "output_type": "stream",
          "text": [
            "55555055\n"
          ]
        }
      ],
      "source": [
        "\n",
        "# using filter: extract odd numbers from a sequence of numbers from 1 to 1000 in steps of 3\n",
        "odds = filter(lambda x: x % 2 or x==1, range(1,1000,3))\n",
        "#  using map: calculate the square of those numbers\n",
        "odds_power_2 = map(lambda x: x*x,odds)\n",
        "# using reduce: sum those numbers   \n",
        "from functools import reduce\n",
        "print(reduce(lambda x, y: (x + y), odds_power_2)) "
      ]
    },
    {
      "cell_type": "markdown",
      "metadata": {
        "id": "NwXsyrntZxW5"
      },
      "source": [
        "__SOLUTION QUESTION 5)__"
      ]
    },
    {
      "cell_type": "code",
      "execution_count": null,
      "metadata": {
        "id": "8ghIgxCEZxW5",
        "outputId": "276dca2c-2780-4e53-de48-30112fa05339"
      },
      "outputs": [
        {
          "name": "stdout",
          "output_type": "stream",
          "text": [
            "3357.28075449474\n"
          ]
        }
      ],
      "source": [
        "from functools import reduce\n",
        "\n",
        "from math import sqrt\n",
        "\n",
        "#create a sequence of numbers from 1-500 where results are odd\n",
        "nums = filter(lambda x: x % 2 != 0,range(10))\n",
        "\n",
        " \n",
        "#using map get the square root of these numbers and add 3\n",
        "map_nums = map(lambda x: sqrt(x) + 3,nums)\n",
        "\n",
        "\n",
        "#using reduce multiply all numbers\n",
        "print(reduce(lambda x, y: (x*y), map_nums))   "
      ]
    },
    {
      "cell_type": "code",
      "execution_count": null,
      "metadata": {
        "id": "NbZMbW_8ZxW6"
      },
      "outputs": [],
      "source": []
    }
  ],
  "metadata": {
    "kernelspec": {
      "display_name": "Python 3",
      "language": "python",
      "name": "python3"
    },
    "language_info": {
      "codemirror_mode": {
        "name": "ipython",
        "version": 3
      },
      "file_extension": ".py",
      "mimetype": "text/x-python",
      "name": "python",
      "nbconvert_exporter": "python",
      "pygments_lexer": "ipython3",
      "version": "3.8.3"
    },
    "colab": {
      "provenance": []
    }
  },
  "nbformat": 4,
  "nbformat_minor": 0
}