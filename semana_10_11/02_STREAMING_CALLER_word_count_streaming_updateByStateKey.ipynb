{
 "cells": [
  {
   "cell_type": "code",
   "execution_count": 1,
   "metadata": {},
   "outputs": [],
   "source": [
    "import findspark\n",
    "findspark.init()\n",
    "import pyspark\n",
    "sc = pyspark.SparkContext(appName=\"CALLER\")\n",
    "from pyspark.sql.session import SparkSession\n",
    "spark = SparkSession(sc)"
   ]
  },
  {
   "cell_type": "code",
   "execution_count": 2,
   "metadata": {},
   "outputs": [
    {
     "name": "stdout",
     "output_type": "stream",
     "text": [
      "Waiting for TCP connection...\n"
     ]
    }
   ],
   "source": [
    "\n",
    "import socket\n",
    "import sys\n",
    "import requests\n",
    "#import requests_oauthlib\n",
    "import json\n",
    "\n",
    "def send_tweets_to_spark(full_tweet, tcp_connection):\n",
    "    try:\n",
    "        print (\"------------------------------------------\")\n",
    "        print(\"Text: \" + full_tweet)\n",
    "        print(tcp_connection.send(full_tweet.encode('utf-8')))\n",
    "    except:\n",
    "        e = sys.exc_info()[0]\n",
    "        print(\"Error: %s\" % e)\n",
    "\n",
    "TCP_IP = \"localhost\"\n",
    "TCP_PORT = 10002\n",
    "conn = None\n",
    "\n",
    "\n",
    "s = socket.socket(socket.AF_INET, socket.SOCK_STREAM)\n",
    "s.bind((TCP_IP, TCP_PORT))\n",
    "s.listen(1)\n",
    "\n",
    "\n",
    "print(\"Waiting for TCP connection...\")\n",
    "conn, addr = s.accept()\n",
    "\n"
   ]
  },
  {
   "cell_type": "code",
   "execution_count": 3,
   "metadata": {},
   "outputs": [
    {
     "name": "stdout",
     "output_type": "stream",
     "text": [
      "------------------------------------------\n",
      "Text: was was very very was tired tired was Alice Alice was tired tired was very was was was very Alice very tired tired was very Alice was was tired very tired Alice Alice tired Alice tired tired very very was tired Alice very was very tired Alice very very very very Alice tired tired very tired very very Alice very Alice was Alice very very Alice very was was was Alice was very was tired very was tired very Alice was tired very very tired tired tired was tired tired very Alice tired was was very Alice Alice was Alice\n",
      "\n",
      "519\n",
      "------------------------------------------\n",
      "Text: tired very was Alice very was was Alice Alice Alice Alice was tired Alice Alice tired was was was Alice very was Alice very very tired was tired tired was very very very very very very was Alice Alice very tired Alice very very tired Alice very was Alice tired was tired Alice very Alice was very was very very was tired very very tired tired very was tired was very was tired very was Alice very Alice tired Alice very was tired very was very very was very tired was Alice very was very Alice tired was tired tired\n",
      "\n",
      "516\n",
      "------------------------------------------\n",
      "Text: Alice was tired tired was was was very Alice tired tired Alice very Alice very was tired tired was Alice Alice was tired very Alice tired very very very Alice very Alice was Alice very tired Alice tired tired Alice tired very tired very tired was was was was tired Alice was was was very tired tired tired was was tired tired tired was very Alice Alice very was was tired tired tired very was tired Alice was very tired tired Alice tired was tired very was very was Alice very very Alice tired Alice Alice Alice tired very Alice\n",
      "\n",
      "529\n",
      "------------------------------------------\n",
      "Text: very tired Alice tired Alice was tired tired very Alice tired Alice Alice was tired was was very very Alice very Alice tired very very Alice tired tired tired was was was was Alice very very very was very was tired very tired tired tired very Alice very Alice tired Alice Alice Alice tired very tired very tired very was very was Alice very was very Alice Alice very very very Alice very tired was Alice tired was very tired very was was tired Alice very tired very Alice very very tired Alice was very very tired tired Alice was\n",
      "\n",
      "530\n",
      "------------------------------------------\n",
      "Text: was very tired was was very Alice was was Alice Alice was was tired tired very was tired very was Alice Alice was Alice was tired tired Alice Alice Alice Alice Alice very was very very very tired was was was tired very tired was tired very Alice was tired tired tired tired was tired was Alice tired tired Alice tired Alice tired Alice tired was Alice tired was tired was tired very very tired was Alice was very Alice very tired was very tired very was Alice tired Alice was tired very tired was Alice tired very Alice tired\n",
      "\n",
      "526\n",
      "------------------------------------------\n",
      "Text: Alice was Alice was Alice very very very was tired very Alice tired tired was very Alice Alice Alice tired very tired Alice very very tired very very was was was very was was tired tired was very very very very very tired tired very tired very Alice tired was tired Alice tired was was Alice Alice tired very very tired tired Alice very very very Alice Alice tired was was was was very tired tired was Alice tired tired very Alice Alice tired was tired tired very Alice was Alice Alice tired very was very tired tired tired very\n",
      "\n",
      "529\n",
      "------------------------------------------\n",
      "Text: was very Alice was tired tired very Alice was Alice Alice tired was was was very Alice was was Alice very tired was very tired tired very tired was was Alice Alice tired Alice very tired very very Alice very tired Alice Alice was tired Alice tired tired Alice Alice very Alice tired was was tired was very was tired was was very very very was very Alice very tired tired tired Alice was Alice was very Alice was was tired was very very was very Alice tired Alice was Alice Alice very Alice very Alice Alice very tired Alice\n",
      "\n",
      "524\n",
      "------------------------------------------\n",
      "Text: Alice was tired Alice Alice tired was Alice very very tired very Alice Alice tired Alice very was very tired tired was very very was was tired was tired very was tired Alice very Alice was tired very tired tired very very tired was was Alice Alice very was was tired tired Alice tired Alice Alice Alice very very Alice Alice Alice tired was was very was very very tired very Alice was was was very very Alice Alice very was Alice very Alice Alice was tired was Alice Alice very tired very tired was was very very very Alice\n",
      "\n",
      "524\n",
      "------------------------------------------\n",
      "Text: Alice tired Alice Alice was Alice very tired was very tired very Alice Alice Alice tired very very very tired was tired tired tired very Alice tired Alice tired was very very very Alice was tired tired was Alice tired very tired very very was very was was very very very was tired Alice Alice very Alice was was very was Alice very was was Alice was Alice was very was very was Alice was tired tired Alice tired Alice was very Alice was very tired tired was very Alice tired Alice very tired very was very was very very\n",
      "\n",
      "520\n",
      "------------------------------------------\n",
      "Text: tired very very was very tired very Alice tired very was Alice Alice was very tired Alice tired Alice very was very very tired very Alice tired Alice very was very very was tired tired Alice was very very very Alice tired tired very Alice Alice very tired very tired tired tired tired was was Alice was Alice was tired very very was was very Alice very tired was was Alice tired Alice tired very Alice was was very Alice tired Alice tired Alice was was very tired Alice tired Alice Alice tired was very very was Alice Alice Alice\n",
      "\n",
      "530\n"
     ]
    }
   ],
   "source": [
    "import random\n",
    "import numpy as np\n",
    "import time\n",
    "resp=\"\"\"Alice was very tired\"\"\"\n",
    "x = resp.split(' ')\n",
    "for item in range(10):\n",
    "#    print(\"-------\")\n",
    "    phrase_2_send = \" \".join(np.random.choice(x,100))\n",
    "#    print(phrase_2_send)\n",
    "#    tcp_connection.send(phrase_2_send+\"\\n\")\n",
    "    send_tweets_to_spark(phrase_2_send+\"\\n\", conn)\n",
    "    time.sleep(random.randint(1,10))"
   ]
  },
  {
   "cell_type": "code",
   "execution_count": null,
   "metadata": {},
   "outputs": [],
   "source": [
    "send_tweets_to_spark(resp, conn)"
   ]
  },
  {
   "cell_type": "code",
   "execution_count": null,
   "metadata": {},
   "outputs": [],
   "source": []
  }
 ],
 "metadata": {
  "kernelspec": {
   "display_name": "Python 3",
   "language": "python",
   "name": "python3"
  },
  "language_info": {
   "codemirror_mode": {
    "name": "ipython",
    "version": 3
   },
   "file_extension": ".py",
   "mimetype": "text/x-python",
   "name": "python",
   "nbconvert_exporter": "python",
   "pygments_lexer": "ipython3",
   "version": "3.6.9"
  }
 },
 "nbformat": 4,
 "nbformat_minor": 2
}
